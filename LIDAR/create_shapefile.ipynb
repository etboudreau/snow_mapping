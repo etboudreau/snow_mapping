{
 "cells": [
  {
   "cell_type": "code",
   "execution_count": 1,
   "id": "1d845540-02d8-44d3-8638-bdf48d97d6dc",
   "metadata": {},
   "outputs": [],
   "source": [
    "import geopandas as gpd\n",
    "from shapely.geometry import Polygon"
   ]
  },
  {
   "cell_type": "code",
   "execution_count": 2,
   "id": "2b653b43-e1db-4780-8937-d0610cb6c792",
   "metadata": {},
   "outputs": [],
   "source": [
    "\n",
    "# Make a list of latitudes and longitudes of the four points\n",
    "# the fifth point is the first point to make last edge of polygon go back to start\n",
    "lat_point_list = [37.72826, 38.18143, 38.19435311, 37.74097, 37.72826]\n",
    "lon_point_list = [-119.7885582, -119.8057568, -119.200041, -119.186547, -119.7885582]\n",
    "\n",
    "# Either keep the geometry based on the four input points\n",
    "polygon_geometry = Polygon(zip(lon_point_list, lat_point_list))\n",
    "# Or make sure to get a rectangle by using the bounding box of the initial polygon\n",
    "# polygon_geometry.bounds[0] = xmin of bounding box around polygon\n",
    "# polygon_geometry.bounds[1] = ymin of bounding box around polygon\n",
    "# polygon_geometry.bounds[2] = xmax of bounding box around polygon\n",
    "# polygon_geometry.bounds[3] = ymax of bounding box around polygon\n",
    "rectangle_polygon_geometry = Polygon([[polygon_geometry.bounds[0], polygon_geometry.bounds[1]],\n",
    "                                      [polygon_geometry.bounds[2], polygon_geometry.bounds[1]],\n",
    "                                      [polygon_geometry.bounds[2], polygon_geometry.bounds[3]],\n",
    "                                      [polygon_geometry.bounds[0], polygon_geometry.bounds[3]],\n",
    "                                      [polygon_geometry.bounds[0], polygon_geometry.bounds[1]]])\n",
    "crs = 'epsg:4326'\n",
    "polygon = gpd.GeoDataFrame(index=[0], crs=crs, geometry=[rectangle_polygon_geometry])\n",
    "polygon.to_file('dataframe.shp', driver=\"ESRI Shapefile\")"
   ]
  },
  {
   "cell_type": "code",
   "execution_count": null,
   "id": "459aa5b7-60f6-4eaa-af16-b89905becd9c",
   "metadata": {},
   "outputs": [],
   "source": [
    "(UL)NW:-119.8057568, 38.18143\n",
    "\n",
    "(UR)NE:-119.200041, 38.19435311\n",
    "\n",
    "(LL)SW:-119.7885582, 37.72826\n",
    "\n",
    "(LR)SE:-119.186547, 37.74097"
   ]
  },
  {
   "cell_type": "code",
   "execution_count": null,
   "id": "673b950c-c465-47ce-9662-2f6c802972ed",
   "metadata": {},
   "outputs": [],
   "source": [
    "lat_point_list = [46.82846637, 46.8326489, 46.83248334, 46.82830084, 46.82846637]\n",
    "lon_point_list = [-97.22096573, -97.22082767, -97.21021166, -97.21035054, -97.22096573]\n",
    "\n",
    "(UL)NW:-97.22082767, 46.8326489\n",
    "\n",
    "(UR)NE:-97.21021166, 46.83248334\n",
    "\n",
    "(LL)SW:-97.22096573, 46.82846637\n",
    "\n",
    "(LR)SE:-97.21035054, 46.82830084"
   ]
  }
 ],
 "metadata": {
  "kernelspec": {
   "display_name": "Python 3 (ipykernel)",
   "language": "python",
   "name": "python3"
  },
  "language_info": {
   "codemirror_mode": {
    "name": "ipython",
    "version": 3
   },
   "file_extension": ".py",
   "mimetype": "text/x-python",
   "name": "python",
   "nbconvert_exporter": "python",
   "pygments_lexer": "ipython3",
   "version": "3.11.7"
  }
 },
 "nbformat": 4,
 "nbformat_minor": 5
}

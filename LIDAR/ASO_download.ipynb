{
 "cells": [
  {
   "cell_type": "code",
   "execution_count": 4,
   "id": "5c57fc6e-d660-4d78-b8c8-8d51ccac1444",
   "metadata": {},
   "outputs": [],
   "source": [
    "import os\n",
    "import geopandas as gpd\n",
    "from shapely.geometry import Polygon, mapping\n",
    "from shapely.geometry.polygon import orient\n",
    "import pandas as pd \n",
    "import matplotlib.pyplot as plt\n",
    "import rasterio\n",
    "from rasterio.plot import show\n",
    "import numpy as np\n",
    "import pyresample as prs\n",
    "import requests\n",
    "import json\n",
    "import pprint\n",
    "from rasterio.mask import mask\n",
    "from mpl_toolkits.axes_grid1 import make_axes_locatable\n",
    "\n",
    "\n",
    "# This is our functions module. We created several helper functions to discover, access, and harmonize the data below.\n",
    "import tutorial_helper_functions as fn"
   ]
  },
  {
   "cell_type": "markdown",
   "id": "8c911c2b-8b8b-45e8-b848-43c2097a76d6",
   "metadata": {},
   "source": [
    "### Identify Area of Interest and Time"
   ]
  },
  {
   "cell_type": "code",
   "execution_count": 5,
   "id": "de902d18-cdaf-49aa-a720-b6d88a84419f",
   "metadata": {},
   "outputs": [
    {
     "name": "stdout",
     "output_type": "stream",
     "text": [
      "Polygon coordinates to be used in search: -119.8057568,37.72826,-119.186547,37.72826,-119.186547,38.19435311,-119.8057568,38.19435311,-119.8057568,37.72826\n"
     ]
    },
    {
     "data": {
      "image/svg+xml": [
       "<svg xmlns=\"http://www.w3.org/2000/svg\" xmlns:xlink=\"http://www.w3.org/1999/xlink\" width=\"100.0\" height=\"100.0\" viewBox=\"-119.830525192 37.703491608 0.6687465839999902 0.5156298939999999\" preserveAspectRatio=\"xMinYMin meet\"><g transform=\"matrix(1,0,0,-1,0,75.92261311)\"><path fill-rule=\"evenodd\" fill=\"#66cc99\" stroke=\"#555555\" stroke-width=\"0.013374931679999804\" opacity=\"0.6\" d=\"M -119.8057568,37.72826 L -119.186547,37.72826 L -119.186547,38.19435311 L -119.8057568,38.19435311 L -119.8057568,37.72826 z\" /></g></svg>"
      ],
      "text/plain": [
       "<POLYGON ((-119.806 37.728, -119.187 37.728, -119.187 38.194, -119.806 38.19...>"
      ]
     },
     "execution_count": 5,
     "metadata": {},
     "output_type": "execute_result"
    }
   ],
   "source": [
    "polygon_filepath = str(os.getcwd() + '/tuo_rectangle.shp') # Note: A shapefile or other vector-based spatial data format could be substituted here.\n",
    "\n",
    "gdf = gpd.read_file(polygon_filepath) #Return a GeoDataFrame object\n",
    "\n",
    "# Simplify polygon for complex shapes in order to pass a reasonable request length to CMR. The larger the tolerance value, the more simplified the polygon.\n",
    "# Orient counter-clockwise: CMR polygon points need to be provided in counter-clockwise order. The last point should match the first point to close the polygon.\n",
    "poly = orient(gdf.simplify(0.05, preserve_topology=False).loc[0],sign=1.0)\n",
    "\n",
    "#Format dictionary to polygon coordinate pairs for CMR polygon filtering\n",
    "polygon = ','.join([str(c) for xy in zip(*poly.exterior.coords.xy) for c in xy])\n",
    "print('Polygon coordinates to be used in search:', polygon)\n",
    "poly"
   ]
  },
  {
   "cell_type": "code",
   "execution_count": 6,
   "id": "b90d3206-452d-4b2e-9d7f-c2da40463d9d",
   "metadata": {},
   "outputs": [],
   "source": [
    "temporal = '2013-05-25T00:00:00Z,2013-05-25T23:59:59Z' # Set temporal range"
   ]
  },
  {
   "cell_type": "markdown",
   "id": "8fb71da7-3bb3-4184-a62e-ec2693f490d9",
   "metadata": {},
   "source": [
    "### Create Data Dictionary"
   ]
  },
  {
   "cell_type": "code",
   "execution_count": 4,
   "id": "5d3cafd5-fb98-442d-beb4-a190b9c8bdd1",
   "metadata": {},
   "outputs": [],
   "source": [
    "# data_dict = { 'snowex': {'short_name': 'SNEX17_GPR','version': '2','polygon': polygon,'temporal':temporal},\n",
    "#                 'aso': {'short_name': 'ASO_3M_SD','version': '1','polygon': polygon,'temporal':temporal},\n",
    "#              'modis': {'short_name': 'MOD10A1','version': '6','polygon': polygon,'temporal':temporal}\n",
    "#             }"
   ]
  },
  {
   "cell_type": "code",
   "execution_count": 7,
   "id": "1e6290b5-7a67-48ca-93c8-a30ca64750de",
   "metadata": {},
   "outputs": [],
   "source": [
    "data_dict = { 'aso': {'short_name': 'ASO_3M_SD','version': '1','polygon': polygon,'temporal':temporal}\n",
    "            }"
   ]
  },
  {
   "cell_type": "code",
   "execution_count": 8,
   "id": "de4bed0f-277a-4ea3-9828-55a160215bbd",
   "metadata": {},
   "outputs": [
    {
     "name": "stdout",
     "output_type": "stream",
     "text": [
      "There are 1 files of ASO_3M_SD version 1 over my area and time of interest.\n",
      "The average size of each file is 1133.05 MB and the total size of all 1 granules is 1133.05 MB\n"
     ]
    }
   ],
   "source": [
    "for k, v in data_dict.items(): fn.granule_info(data_dict[k])"
   ]
  },
  {
   "cell_type": "markdown",
   "id": "0cdeccbb-ffc9-4c5a-9a3b-6119891f9019",
   "metadata": {},
   "source": [
    "### Find Coincident"
   ]
  },
  {
   "cell_type": "code",
   "execution_count": 9,
   "id": "32aa41ec-6420-42ef-a487-f66a55def16f",
   "metadata": {},
   "outputs": [
    {
     "name": "stdout",
     "output_type": "stream",
     "text": [
      "1  total files returned\n"
     ]
    },
    {
     "data": {
      "text/html": [
       "<div>\n",
       "<style scoped>\n",
       "    .dataframe tbody tr th:only-of-type {\n",
       "        vertical-align: middle;\n",
       "    }\n",
       "\n",
       "    .dataframe tbody tr th {\n",
       "        vertical-align: top;\n",
       "    }\n",
       "\n",
       "    .dataframe thead th {\n",
       "        text-align: right;\n",
       "    }\n",
       "</style>\n",
       "<table border=\"1\" class=\"dataframe\">\n",
       "  <thead>\n",
       "    <tr style=\"text-align: right;\">\n",
       "      <th></th>\n",
       "      <th>dataset_id</th>\n",
       "      <th>short_name</th>\n",
       "      <th>version</th>\n",
       "      <th>producer_granule_id</th>\n",
       "      <th>start_date</th>\n",
       "      <th>end_date</th>\n",
       "    </tr>\n",
       "  </thead>\n",
       "  <tbody>\n",
       "    <tr>\n",
       "      <th>0</th>\n",
       "      <td>ASO L4 Lidar Snow Depth 3m UTM Grid V001</td>\n",
       "      <td>ASO_3M_SD</td>\n",
       "      <td>001</td>\n",
       "      <td>ASO_3M_SD_USCATB_20130525.tif</td>\n",
       "      <td>2013-05-25T00:00:00.010Z</td>\n",
       "      <td>2013-05-25T23:59:59.590Z</td>\n",
       "    </tr>\n",
       "  </tbody>\n",
       "</table>\n",
       "</div>"
      ],
      "text/plain": [
       "                                 dataset_id short_name version  \\\n",
       "0  ASO L4 Lidar Snow Depth 3m UTM Grid V001  ASO_3M_SD     001   \n",
       "\n",
       "             producer_granule_id                start_date  \\\n",
       "0  ASO_3M_SD_USCATB_20130525.tif  2013-05-25T00:00:00.010Z   \n",
       "\n",
       "                   end_date  \n",
       "0  2013-05-25T23:59:59.590Z  "
      ]
     },
     "execution_count": 9,
     "metadata": {},
     "output_type": "execute_result"
    }
   ],
   "source": [
    "search_df = fn.time_overlap(data_dict)\n",
    "print(len(search_df), ' total files returned')\n",
    "search_df"
   ]
  },
  {
   "cell_type": "markdown",
   "id": "0892fac8-9cd0-4e08-9ed0-ddfc08b8fb70",
   "metadata": {},
   "source": [
    "### Data Access"
   ]
  },
  {
   "cell_type": "code",
   "execution_count": 10,
   "id": "5a009cb0-3dd9-4695-b290-6a3e746b1e19",
   "metadata": {},
   "outputs": [
    {
     "data": {
      "text/plain": [
       "['https://n5eil01u.ecs.nsidc.org/DP1/ASO/ASO_3M_SD.001/2013.05.25/ASO_3M_SD_USCATB_20130525.tif',\n",
       " 'https://n5eil01u.ecs.nsidc.org/DP1/ASO/ASO_3M_SD.001/2013.05.25/ASO_3M_SD_USCATB_20130525.tif.xml']"
      ]
     },
     "execution_count": 10,
     "metadata": {},
     "output_type": "execute_result"
    }
   ],
   "source": [
    "# Create new dictionary with fields needed for CMR url search\n",
    "\n",
    "url_df = search_df.drop(columns=['start_date', 'end_date','version','dataset_id'])\n",
    "url_dict = url_df.to_dict('records')\n",
    "\n",
    "# CMR search variables\n",
    "granule_search_url = 'https://cmr.earthdata.nasa.gov/search/granules'\n",
    "headers= {'Accept': 'application/json'}\n",
    "\n",
    "# Create URL list from each df row\n",
    "urls = []\n",
    "for i in range(len(url_dict)):\n",
    "    response = requests.get(granule_search_url, params=url_dict[i], headers=headers)\n",
    "    results = json.loads(response.content)\n",
    "    urls.append(fn.cmr_filter_urls(results))\n",
    "# flatten url list\n",
    "urls = list(np.concatenate(urls))\n",
    "urls"
   ]
  },
  {
   "cell_type": "code",
   "execution_count": 11,
   "id": "181ccf47-9c2f-40d5-8ca3-e1e39820d27b",
   "metadata": {},
   "outputs": [
    {
     "data": {
      "text/plain": [
       "['https://n5eil01u.ecs.nsidc.org/DP1/ASO/ASO_3M_SD.001/2013.05.25/ASO_3M_SD_USCATB_20130525.tif',\n",
       " 'https://n5eil01u.ecs.nsidc.org/DP1/ASO/ASO_3M_SD.001/2013.05.25/ASO_3M_SD_USCATB_20130525.tif.xml']"
      ]
     },
     "execution_count": 11,
     "metadata": {},
     "output_type": "execute_result"
    }
   ],
   "source": [
    "urls"
   ]
  },
  {
   "cell_type": "markdown",
   "id": "664eceba-8b35-4ee2-9923-b4d87481a6c2",
   "metadata": {},
   "source": [
    "### Download"
   ]
  },
  {
   "cell_type": "code",
   "execution_count": 12,
   "id": "61d4451f-d409-4574-96e2-f99f65cccb8e",
   "metadata": {},
   "outputs": [
    {
     "name": "stdout",
     "output_type": "stream",
     "text": [
      "Downloading 2 files...\n",
      "1/2: ASO_3M_SD_USCATB_20130525.tif\n",
      "2/2: ASO_3M_SD_USCATB_20130525.tif.xml\n"
     ]
    }
   ],
   "source": [
    "path = str(os.getcwd() + '/Data')\n",
    "if not os.path.exists(path):\n",
    "    os.mkdir(path)\n",
    "os.chdir(path)\n",
    "fn.cmr_download(urls)\n",
    "#fn.cmr_download(api_request)\n",
    "\n",
    "\n",
    "# pull data from staged bucket for demonstration\n",
    "#!awscliv2 --no-sign-request s3 cp s3://snowex-aso-modis-tutorial-data/ ./ --recursive #access data in staged directory"
   ]
  },
  {
   "cell_type": "code",
   "execution_count": 16,
   "id": "31f56c15-8462-4eaa-b48e-05ee6f6a4c9d",
   "metadata": {},
   "outputs": [],
   "source": [
    "aso_path = './ASO_3M_SD_USCATB_20130525.tif' # Define local filepath\n",
    "\n",
    "aso = rasterio.open(aso_path)"
   ]
  }
 ],
 "metadata": {
  "kernelspec": {
   "display_name": "Python 3 (ipykernel)",
   "language": "python",
   "name": "python3"
  },
  "language_info": {
   "codemirror_mode": {
    "name": "ipython",
    "version": 3
   },
   "file_extension": ".py",
   "mimetype": "text/x-python",
   "name": "python",
   "nbconvert_exporter": "python",
   "pygments_lexer": "ipython3",
   "version": "3.11.7"
  }
 },
 "nbformat": 4,
 "nbformat_minor": 5
}

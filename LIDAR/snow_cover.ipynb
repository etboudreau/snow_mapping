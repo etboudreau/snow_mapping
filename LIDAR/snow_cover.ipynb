{
 "cells": [
  {
   "cell_type": "code",
   "execution_count": 1,
   "id": "17a2f670-ec25-4989-964f-9ba03d5dfe70",
   "metadata": {},
   "outputs": [],
   "source": [
    "# general purpose data manipulation and analysis\n",
    "import numpy as np\n",
    "\n",
    "# packages for working with raster datasets\n",
    "import rasterio\n",
    "from rasterio.mask import mask\n",
    "from rasterio.plot import show\n",
    "from rasterio.enums import Resampling\n",
    "\n",
    "import xarray # allows us to work with raster data as arrays\n",
    "\n",
    "\n",
    "# packages for working with geospatial data\n",
    "import geopandas as gpd\n",
    "import pycrs\n",
    "\n",
    "from shapely.geometry import box\n",
    "import rioxarray\n",
    "\n",
    "# import packages for viewing the data\n",
    "import matplotlib.pyplot as plt\n",
    "from matplotlib_scalebar.scalebar import ScaleBar"
   ]
  },
  {
   "cell_type": "code",
   "execution_count": 2,
   "id": "e379a47f-f2dd-4e18-8a30-af0c578c744b",
   "metadata": {},
   "outputs": [],
   "source": [
    "# matplotlib functionality\n",
    "%matplotlib inline\n",
    "# %matplotlib notebook"
   ]
  },
  {
   "cell_type": "code",
   "execution_count": 3,
   "id": "c8d60f8b-23e5-4e19-8fb7-bfddeef7a778",
   "metadata": {},
   "outputs": [],
   "source": [
    "# open the raster\n",
    "fparts_SD_GM_3m = \"Data/Data/ASO_3M_SD_USCATB_20130525.tif\""
   ]
  },
  {
   "cell_type": "code",
   "execution_count": 4,
   "id": "cc3339a4-198f-4903-a668-3ed0c7e2e795",
   "metadata": {},
   "outputs": [],
   "source": [
    "SD_GM_3m = rasterio.open(fparts_SD_GM_3m)"
   ]
  },
  {
   "cell_type": "code",
   "execution_count": 5,
   "id": "9b78089e-6e0c-4c9d-ad01-b43288d078be",
   "metadata": {},
   "outputs": [],
   "source": [
    "#open in array\n",
    "dat_array_3m = rioxarray.open_rasterio(fparts_SD_GM_3m)"
   ]
  },
  {
   "cell_type": "code",
   "execution_count": 6,
   "id": "7f9d6b10-e516-43f1-89ac-b897ea12d4e7",
   "metadata": {},
   "outputs": [],
   "source": [
    "#not so sure what this is doing\n",
    "a = SD_GM_3m.read(1)\n",
    "#removing NaN values\n",
    "a = np.ma.masked_equal(a, -9999.0)"
   ]
  },
  {
   "cell_type": "code",
   "execution_count": 7,
   "id": "45ea20e0-1be8-45be-a283-3d82da9a12be",
   "metadata": {},
   "outputs": [
    {
     "data": {
      "image/png": "[encoded data removed]",
      "text/plain": [
       "<Figure size 640x480 with 1 Axes>"
      ]
     },
     "metadata": {},
     "output_type": "display_data"
    }
   ],
   "source": [
    "#understanding the value distribution\n",
    "f, ax = plt.subplots()\n",
    "ax.hist(a.ravel(), bins=128);"
   ]
  },
  {
   "cell_type": "code",
   "execution_count": 8,
   "id": "8faf57f5-35e3-4ea5-b323-01070db757cc",
   "metadata": {},
   "outputs": [],
   "source": [
    "idx = a>0"
   ]
  },
  {
   "cell_type": "code",
   "execution_count": 9,
   "id": "aa866436-1086-458d-8fb2-56428cff4a82",
   "metadata": {},
   "outputs": [],
   "source": [
    "mask=np.ma.masked_equal(a, 0)"
   ]
  },
  {
   "cell_type": "code",
   "execution_count": 10,
   "id": "8e7eef1b-c921-4a73-9943-fc9578ceb2da",
   "metadata": {},
   "outputs": [
    {
     "data": {
      "text/plain": [
       "masked_array(\n",
       "  data=[[--, --, --, ..., --, --, --],\n",
       "        [--, --, --, ..., --, --, --],\n",
       "        [--, --, --, ..., --, --, --],\n",
       "        ...,\n",
       "        [--, --, --, ..., --, --, --],\n",
       "        [--, --, --, ..., --, --, --],\n",
       "        [--, --, --, ..., --, --, --]],\n",
       "  mask=[[ True,  True,  True, ...,  True,  True,  True],\n",
       "        [ True,  True,  True, ...,  True,  True,  True],\n",
       "        [ True,  True,  True, ...,  True,  True,  True],\n",
       "        ...,\n",
       "        [ True,  True,  True, ...,  True,  True,  True],\n",
       "        [ True,  True,  True, ...,  True,  True,  True],\n",
       "        [ True,  True,  True, ...,  True,  True,  True]],\n",
       "  fill_value=-9999.0,\n",
       "  dtype=float32)"
      ]
     },
     "execution_count": 10,
     "metadata": {},
     "output_type": "execute_result"
    }
   ],
   "source": [
    "cover = a[idx]\n",
    "cover\n",
    "a"
   ]
  },
  {
   "cell_type": "code",
   "execution_count": null,
   "id": "54982cd3-a4d2-4db6-b4f5-bc0bf17e892b",
   "metadata": {},
   "outputs": [
    {
     "data": {
      "text/plain": [
       "<matplotlib.colorbar.Colorbar at 0x7ba7b4a83310>"
      ]
     },
     "execution_count": 11,
     "metadata": {},
     "output_type": "execute_result"
    }
   ],
   "source": [
    "fig2, ax2 = plt.subplots()\n",
    "pos2 = ax2.imshow(a, cmap='Blues', vmin=0, vmax=1.5);\n",
    "ax2.set_title('Tuolumne Snow Depth 3m')\n",
    "fig2.colorbar(pos2, ax=ax2)"
   ]
  },
  {
   "cell_type": "code",
   "execution_count": null,
   "id": "3b9f3f3c-a187-485b-9ebe-99c73ff2c129",
   "metadata": {},
   "outputs": [],
   "source": [
    "fig2, ax2 = plt.subplots()\n",
    "pos2 = ax2.imshow(mask, cmap='Blues' ,vmin=0,vmax=1.5);\n",
    "ax2.set_title('Tuolumne Snow Depth 3m')\n",
    "fig2.colorbar(pos2, ax=ax2)"
   ]
  }
 ],
 "metadata": {
  "kernelspec": {
   "display_name": "Python 3 (ipykernel)",
   "language": "python",
   "name": "python3"
  },
  "language_info": {
   "codemirror_mode": {
    "name": "ipython",
    "version": 3
   },
   "file_extension": ".py",
   "mimetype": "text/x-python",
   "name": "python",
   "nbconvert_exporter": "python",
   "pygments_lexer": "ipython3",
   "version": "3.11.7"
  }
 },
 "nbformat": 4,
 "nbformat_minor": 5
}

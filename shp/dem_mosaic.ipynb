{
 "cells": [
  {
   "cell_type": "markdown",
   "metadata": {},
   "source": [
    "### Notebook to make a Mosaic of two Copernicus DEM Tiles"
   ]
  },
  {
   "cell_type": "code",
   "execution_count": 1,
   "metadata": {},
   "outputs": [],
   "source": [
    "from rasterio.plot import show\n",
    "from rasterio.merge import merge\n",
    "import rasterio as rio\n",
    "from pathlib import Path\n",
    "\n",
    "#tar -xvf Data/cop_DEM/Copernicus_DSM_10_N37_00_W120_00.tar\n",
    "#for multiple scenes\n",
    "#https://medium.com/spatial-data-science/how-to-mosaic-merge-raster-data-in-python-fb18e44f3c8 "
   ]
  },
  {
   "cell_type": "code",
   "execution_count": 19,
   "metadata": {},
   "outputs": [],
   "source": [
    "# Another way to do it - without calling to foler of dems\n",
    "\n",
    "# path = Path('/home/etboud/projects/Data/DEM')\n",
    "# Path('output').mkdir(parents=True, exist_ok=True)\n",
    "# output_path = \"/home/etboud/projects/Data/output/mosaic_output.tif\"\n",
    "\n",
    "# for p in raster_files:\n",
    "#     raster = rio.open(p)\n",
    "#     raster_to_mosiac.append(raster)\n",
    "\n",
    "# for p in raster_files:\n",
    "#     raster = rio.open(p)\n",
    "#     raster_to_mosiac.append(raster)\n",
    "\n",
    "# raster1 = rio.open('/home/etboud/projects/Data/DEM/Copernicus_DSM_10_N37_00_W120_00_DEM.tif')\n",
    "# path_raster1 = '/home/etboud/projects/Data/DEM/Copernicus_DSM_10_N37_00_W120_00_DEM.tif'\n",
    "# raster2 = rio.open('/home/etboud/projects/Data/DEM/Copernicus_DSM_10_N38_00_W120_00_DEM.tif')\n",
    "# path_raster2 = '/home/etboud/projects/Data/DEM/Copernicus_DSM_10_N38_00_W120_00_DEM.tif'\n",
    "\n",
    "\n",
    "# mosaic= merge([raster1, raster2])"
   ]
  },
  {
   "cell_type": "markdown",
   "metadata": {},
   "source": [
    "#### Directories and paths"
   ]
  },
  {
   "cell_type": "code",
   "execution_count": 2,
   "metadata": {},
   "outputs": [],
   "source": [
    "# Specify the full path where you want the output folder to be created\n",
    "output_dir = Path('/home/etboud/projects/Data/output')\n",
    "\n",
    "# Create the output directory if it doesn't exist\n",
    "output_dir.mkdir(parents=True, exist_ok=True)\n",
    "\n",
    "# Define the output file path within the output directory\n",
    "output_path = output_dir / \"mosaic_output.tif\""
   ]
  },
  {
   "cell_type": "code",
   "execution_count": 3,
   "metadata": {},
   "outputs": [],
   "source": [
    "dem_path = Path('/home/etboud/projects/data/cop_DEM')\n",
    "raster_files = list(dem_path.iterdir())\n",
    "raster_to_mosiac = []"
   ]
  },
  {
   "cell_type": "markdown",
   "metadata": {},
   "source": [
    "#### For loop to merge on directories"
   ]
  },
  {
   "cell_type": "code",
   "execution_count": 4,
   "metadata": {},
   "outputs": [],
   "source": [
    "for p in raster_files:\n",
    "    raster = rio.open(p)\n",
    "    raster_to_mosiac.append(raster)"
   ]
  },
  {
   "cell_type": "code",
   "execution_count": 6,
   "metadata": {},
   "outputs": [],
   "source": [
    "mosaic, output = merge(raster_to_mosiac)"
   ]
  },
  {
   "cell_type": "markdown",
   "metadata": {},
   "source": [
    "#### Save mosaic as GEOtiff"
   ]
  },
  {
   "cell_type": "code",
   "execution_count": 11,
   "metadata": {},
   "outputs": [],
   "source": [
    "output_meta = raster.meta.copy()\n",
    "output_meta.update({\n",
    "    \"driver\": \"GTiff\",\n",
    "    \"height\": mosaic.shape[1],\n",
    "    \"width\": mosaic.shape[2],\n",
    "    \"transform\": output,\n",
    "    \n",
    "})"
   ]
  },
  {
   "cell_type": "code",
   "execution_count": 13,
   "metadata": {},
   "outputs": [],
   "source": [
    "with rio.open(output_path, 'w', **output_meta) as m:\n",
    "    m.write(mosaic)\n"
   ]
  }
 ],
 "metadata": {
  "kernelspec": {
   "display_name": "planet_env",
   "language": "python",
   "name": "python3"
  },
  "language_info": {
   "codemirror_mode": {
    "name": "ipython",
    "version": 3
   },
   "file_extension": ".py",
   "mimetype": "text/x-python",
   "name": "python",
   "nbconvert_exporter": "python",
   "pygments_lexer": "ipython3",
   "version": "3.11.7"
  },
  "orig_nbformat": 4
 },
 "nbformat": 4,
 "nbformat_minor": 2
}

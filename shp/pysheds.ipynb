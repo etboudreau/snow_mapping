{
 "cells": [
  {
   "cell_type": "code",
   "execution_count": 1,
   "metadata": {},
   "outputs": [
    {
     "name": "stdout",
     "output_type": "stream",
     "text": [
      "Requirement already satisfied: pysheds in /home/etboud/mambaforge/envs/planet_env/lib/python3.11/site-packages (0.3.5)\n",
      "Requirement already satisfied: affine in /home/etboud/mambaforge/envs/planet_env/lib/python3.11/site-packages (from pysheds) (2.4.0)\n",
      "Requirement already satisfied: geojson in /home/etboud/mambaforge/envs/planet_env/lib/python3.11/site-packages (from pysheds) (3.1.0)\n",
      "Requirement already satisfied: numba in /home/etboud/mambaforge/envs/planet_env/lib/python3.11/site-packages (from pysheds) (0.59.0)\n",
      "Requirement already satisfied: numpy in /home/etboud/mambaforge/envs/planet_env/lib/python3.11/site-packages (from pysheds) (1.26.3)\n",
      "Requirement already satisfied: pandas in /home/etboud/mambaforge/envs/planet_env/lib/python3.11/site-packages (from pysheds) (2.1.4)\n",
      "Requirement already satisfied: pyproj in /home/etboud/mambaforge/envs/planet_env/lib/python3.11/site-packages (from pysheds) (3.6.1)\n",
      "Requirement already satisfied: rasterio>=1 in /home/etboud/mambaforge/envs/planet_env/lib/python3.11/site-packages (from pysheds) (1.3.9)\n",
      "Requirement already satisfied: scikit-image in /home/etboud/mambaforge/envs/planet_env/lib/python3.11/site-packages (from pysheds) (0.22.0)\n",
      "Requirement already satisfied: scipy in /home/etboud/mambaforge/envs/planet_env/lib/python3.11/site-packages (from pysheds) (1.12.0)\n",
      "Requirement already satisfied: attrs in /home/etboud/mambaforge/envs/planet_env/lib/python3.11/site-packages (from rasterio>=1->pysheds) (23.2.0)\n",
      "Requirement already satisfied: certifi in /home/etboud/mambaforge/envs/planet_env/lib/python3.11/site-packages (from rasterio>=1->pysheds) (2023.11.17)\n",
      "Requirement already satisfied: click>=4.0 in /home/etboud/mambaforge/envs/planet_env/lib/python3.11/site-packages (from rasterio>=1->pysheds) (8.1.7)\n",
      "Requirement already satisfied: cligj>=0.5 in /home/etboud/mambaforge/envs/planet_env/lib/python3.11/site-packages (from rasterio>=1->pysheds) (0.7.2)\n",
      "Requirement already satisfied: snuggs>=1.4.1 in /home/etboud/mambaforge/envs/planet_env/lib/python3.11/site-packages (from rasterio>=1->pysheds) (1.4.7)\n",
      "Requirement already satisfied: click-plugins in /home/etboud/mambaforge/envs/planet_env/lib/python3.11/site-packages (from rasterio>=1->pysheds) (1.1.1)\n",
      "Requirement already satisfied: setuptools in /home/etboud/mambaforge/envs/planet_env/lib/python3.11/site-packages (from rasterio>=1->pysheds) (68.0.0)\n",
      "Requirement already satisfied: llvmlite<0.43,>=0.42.0dev0 in /home/etboud/mambaforge/envs/planet_env/lib/python3.11/site-packages (from numba->pysheds) (0.42.0)\n",
      "Requirement already satisfied: python-dateutil>=2.8.2 in /home/etboud/mambaforge/envs/planet_env/lib/python3.11/site-packages (from pandas->pysheds) (2.8.2)\n",
      "Requirement already satisfied: pytz>=2020.1 in /home/etboud/mambaforge/envs/planet_env/lib/python3.11/site-packages (from pandas->pysheds) (2023.3.post1)\n",
      "Requirement already satisfied: tzdata>=2022.1 in /home/etboud/mambaforge/envs/planet_env/lib/python3.11/site-packages (from pandas->pysheds) (2023.4)\n",
      "Requirement already satisfied: networkx>=2.8 in /home/etboud/mambaforge/envs/planet_env/lib/python3.11/site-packages (from scikit-image->pysheds) (3.2.1)\n",
      "Requirement already satisfied: pillow>=9.0.1 in /home/etboud/mambaforge/envs/planet_env/lib/python3.11/site-packages (from scikit-image->pysheds) (10.2.0)\n",
      "Requirement already satisfied: imageio>=2.27 in /home/etboud/mambaforge/envs/planet_env/lib/python3.11/site-packages (from scikit-image->pysheds) (2.34.0)\n",
      "Requirement already satisfied: tifffile>=2022.8.12 in /home/etboud/mambaforge/envs/planet_env/lib/python3.11/site-packages (from scikit-image->pysheds) (2024.2.12)\n",
      "Requirement already satisfied: packaging>=21 in /home/etboud/mambaforge/envs/planet_env/lib/python3.11/site-packages (from scikit-image->pysheds) (23.1)\n",
      "Requirement already satisfied: lazy_loader>=0.3 in /home/etboud/mambaforge/envs/planet_env/lib/python3.11/site-packages (from scikit-image->pysheds) (0.3)\n",
      "Requirement already satisfied: six>=1.5 in /home/etboud/mambaforge/envs/planet_env/lib/python3.11/site-packages (from python-dateutil>=2.8.2->pandas->pysheds) (1.16.0)\n",
      "Requirement already satisfied: pyparsing>=2.1.6 in /home/etboud/mambaforge/envs/planet_env/lib/python3.11/site-packages (from snuggs>=1.4.1->rasterio>=1->pysheds) (3.1.1)\n"
     ]
    }
   ],
   "source": [
    "#use environment planet_env(Pythin 3.11.7)\n",
    "#!pip install pysheds"
   ]
  },
  {
   "cell_type": "code",
   "execution_count": 2,
   "metadata": {},
   "outputs": [],
   "source": [
    "import pysheds"
   ]
  },
  {
   "cell_type": "code",
   "execution_count": 4,
   "metadata": {},
   "outputs": [],
   "source": [
    "import numpy as np\n",
    "import pandas as pd\n",
    "from pysheds.grid import Grid\n",
    "import geopandas as gpd\n",
    "from shapely import geometry, ops\n",
    "import matplotlib.pyplot as plt\n",
    "import matplotlib.colors as colors\n",
    "import seaborn as sns\n",
    "\n",
    "import warnings\n",
    "warnings.filterwarnings('ignore')\n",
    "sns.set_palette('husl')\n",
    "\n",
    "%matplotlib inline"
   ]
  },
  {
   "cell_type": "code",
   "execution_count": 13,
   "metadata": {},
   "outputs": [],
   "source": [
    "import os"
   ]
  },
  {
   "cell_type": "code",
   "execution_count": 6,
   "metadata": {},
   "outputs": [
    {
     "data": {
      "text/plain": [
       "'/home/etboud/projects/snow_mapping2/shp'"
      ]
     },
     "execution_count": 6,
     "metadata": {},
     "output_type": "execute_result"
    }
   ],
   "source": [
    "pwd"
   ]
  },
  {
   "cell_type": "code",
   "execution_count": 17,
   "metadata": {},
   "outputs": [],
   "source": [
    "demdir = 'home/etboud/projects/'\n",
    "id = 'Copernicus_DSM_10_N37_00_W120_00'\n",
    "dem_fn = os.path.join(demdir, id+'.tar')"
   ]
  },
  {
   "cell_type": "code",
   "execution_count": 15,
   "metadata": {},
   "outputs": [
    {
     "data": {
      "text/plain": [
       "'/home/etboud/projects/Copernicus_DSM_10_N37_00_W120_00.tar'"
      ]
     },
     "execution_count": 15,
     "metadata": {},
     "output_type": "execute_result"
    }
   ],
   "source": [
    "dem_fn"
   ]
  },
  {
   "cell_type": "code",
   "execution_count": 18,
   "metadata": {},
   "outputs": [
    {
     "ename": "RasterioIOError",
     "evalue": "home/etboud/projects/Copernicus_DSM_10_N37_00_W120_00.tar: No such file or directory",
     "output_type": "error",
     "traceback": [
      "\u001b[0;31m---------------------------------------------------------------------------\u001b[0m",
      "\u001b[0;31mCPLE_OpenFailedError\u001b[0m                      Traceback (most recent call last)",
      "File \u001b[0;32mrasterio/_base.pyx:310\u001b[0m, in \u001b[0;36mrasterio._base.DatasetBase.__init__\u001b[0;34m()\u001b[0m\n",
      "File \u001b[0;32mrasterio/_base.pyx:221\u001b[0m, in \u001b[0;36mrasterio._base.open_dataset\u001b[0;34m()\u001b[0m\n",
      "File \u001b[0;32mrasterio/_err.pyx:221\u001b[0m, in \u001b[0;36mrasterio._err.exc_wrap_pointer\u001b[0;34m()\u001b[0m\n",
      "\u001b[0;31mCPLE_OpenFailedError\u001b[0m: home/etboud/projects/Copernicus_DSM_10_N37_00_W120_00.tar: No such file or directory",
      "\nDuring handling of the above exception, another exception occurred:\n",
      "\u001b[0;31mRasterioIOError\u001b[0m                           Traceback (most recent call last)",
      "\u001b[1;32m/home/etboud/projects/snow_mapping2/shp/pysheds.ipynb Cell 8\u001b[0m line \u001b[0;36m2\n\u001b[1;32m      <a href='vscode-notebook-cell://ssh-remote%2Bc-nicoleta-1.ce.washington.edu/home/etboud/projects/snow_mapping2/shp/pysheds.ipynb#W3sdnNjb2RlLXJlbW90ZQ%3D%3D?line=0'>1</a>\u001b[0m \u001b[39m# Instatiate a grid from a raster\u001b[39;00m\n\u001b[0;32m----> <a href='vscode-notebook-cell://ssh-remote%2Bc-nicoleta-1.ce.washington.edu/home/etboud/projects/snow_mapping2/shp/pysheds.ipynb#W3sdnNjb2RlLXJlbW90ZQ%3D%3D?line=1'>2</a>\u001b[0m grid \u001b[39m=\u001b[39m Grid\u001b[39m.\u001b[39mfrom_raster(dem_fn, data_name\u001b[39m=\u001b[39m\u001b[39m'\u001b[39m\u001b[39mdem\u001b[39m\u001b[39m'\u001b[39m)\n",
      "File \u001b[0;32m~/mambaforge/envs/planet_env/lib/python3.11/site-packages/pysheds/sgrid.py:419\u001b[0m, in \u001b[0;36msGrid.from_raster\u001b[0;34m(cls, data, **kwargs)\u001b[0m\n\u001b[1;32m    417\u001b[0m     \u001b[39mreturn\u001b[39;00m newinstance\n\u001b[1;32m    418\u001b[0m \u001b[39melif\u001b[39;00m \u001b[39misinstance\u001b[39m(data, \u001b[39mstr\u001b[39m):\n\u001b[0;32m--> 419\u001b[0m     data \u001b[39m=\u001b[39m newinstance\u001b[39m.\u001b[39mread_raster(data, \u001b[39m*\u001b[39m\u001b[39m*\u001b[39mkwargs)\n\u001b[1;32m    420\u001b[0m     newinstance\u001b[39m.\u001b[39mviewfinder \u001b[39m=\u001b[39m data\u001b[39m.\u001b[39mviewfinder\n\u001b[1;32m    421\u001b[0m     \u001b[39mreturn\u001b[39;00m newinstance\n",
      "File \u001b[0;32m~/mambaforge/envs/planet_env/lib/python3.11/site-packages/pysheds/sgrid.py:256\u001b[0m, in \u001b[0;36msGrid.read_raster\u001b[0;34m(self, data, band, window, window_crs, metadata, mask_geometry, **kwargs)\u001b[0m\n\u001b[1;32m    224\u001b[0m \u001b[39mdef\u001b[39;00m \u001b[39mread_raster\u001b[39m(\u001b[39mself\u001b[39m, data, band\u001b[39m=\u001b[39m\u001b[39m1\u001b[39m, window\u001b[39m=\u001b[39m\u001b[39mNone\u001b[39;00m, window_crs\u001b[39m=\u001b[39m\u001b[39mNone\u001b[39;00m,\n\u001b[1;32m    225\u001b[0m                 metadata\u001b[39m=\u001b[39m{}, mask_geometry\u001b[39m=\u001b[39m\u001b[39mFalse\u001b[39;00m, \u001b[39m*\u001b[39m\u001b[39m*\u001b[39mkwargs):\n\u001b[1;32m    226\u001b[0m \u001b[39m    \u001b[39m\u001b[39m\"\"\"\u001b[39;00m\n\u001b[1;32m    227\u001b[0m \u001b[39m    Reads data from a raster file and returns a Raster object.\u001b[39;00m\n\u001b[1;32m    228\u001b[0m \n\u001b[0;32m   (...)\u001b[0m\n\u001b[1;32m    254\u001b[0m \u001b[39m        Raster object containing loaded data.\u001b[39;00m\n\u001b[1;32m    255\u001b[0m \u001b[39m    \"\"\"\u001b[39;00m\n\u001b[0;32m--> 256\u001b[0m     \u001b[39mreturn\u001b[39;00m pysheds\u001b[39m.\u001b[39mio\u001b[39m.\u001b[39mread_raster(data\u001b[39m=\u001b[39mdata, band\u001b[39m=\u001b[39mband, window\u001b[39m=\u001b[39mwindow,\n\u001b[1;32m    257\u001b[0m                                   window_crs\u001b[39m=\u001b[39mwindow_crs, metadata\u001b[39m=\u001b[39mmetadata,\n\u001b[1;32m    258\u001b[0m                                   mask_geometry\u001b[39m=\u001b[39mmask_geometry, \u001b[39m*\u001b[39m\u001b[39m*\u001b[39mkwargs)\n",
      "File \u001b[0;32m~/mambaforge/envs/planet_env/lib/python3.11/site-packages/pysheds/io.py:95\u001b[0m, in \u001b[0;36mread_raster\u001b[0;34m(data, band, window, window_crs, mask_geometry, nodata, metadata, **kwargs)\u001b[0m\n\u001b[1;32m     61\u001b[0m \u001b[39m\u001b[39m\u001b[39m\"\"\"\u001b[39;00m\n\u001b[1;32m     62\u001b[0m \u001b[39mReads data from a raster file and returns a Raster object.\u001b[39;00m\n\u001b[1;32m     63\u001b[0m \n\u001b[0;32m   (...)\u001b[0m\n\u001b[1;32m     92\u001b[0m \u001b[39m      Raster object containing loaded data.\u001b[39;00m\n\u001b[1;32m     93\u001b[0m \u001b[39m\"\"\"\u001b[39;00m\n\u001b[1;32m     94\u001b[0m mask \u001b[39m=\u001b[39m \u001b[39mNone\u001b[39;00m\n\u001b[0;32m---> 95\u001b[0m \u001b[39mwith\u001b[39;00m rasterio\u001b[39m.\u001b[39mopen(data, \u001b[39m*\u001b[39m\u001b[39m*\u001b[39mkwargs) \u001b[39mas\u001b[39;00m f:\n\u001b[1;32m     96\u001b[0m     crs \u001b[39m=\u001b[39m projection\u001b[39m.\u001b[39mto_proj(f\u001b[39m.\u001b[39mcrs)\n\u001b[1;32m     97\u001b[0m     \u001b[39mif\u001b[39;00m window \u001b[39mis\u001b[39;00m \u001b[39mNone\u001b[39;00m:\n",
      "File \u001b[0;32m~/mambaforge/envs/planet_env/lib/python3.11/site-packages/rasterio/env.py:451\u001b[0m, in \u001b[0;36mensure_env_with_credentials.<locals>.wrapper\u001b[0;34m(*args, **kwds)\u001b[0m\n\u001b[1;32m    448\u001b[0m     session \u001b[39m=\u001b[39m DummySession()\n\u001b[1;32m    450\u001b[0m \u001b[39mwith\u001b[39;00m env_ctor(session\u001b[39m=\u001b[39msession):\n\u001b[0;32m--> 451\u001b[0m     \u001b[39mreturn\u001b[39;00m f(\u001b[39m*\u001b[39margs, \u001b[39m*\u001b[39m\u001b[39m*\u001b[39mkwds)\n",
      "File \u001b[0;32m~/mambaforge/envs/planet_env/lib/python3.11/site-packages/rasterio/__init__.py:304\u001b[0m, in \u001b[0;36mopen\u001b[0;34m(fp, mode, driver, width, height, count, crs, transform, dtype, nodata, sharing, **kwargs)\u001b[0m\n\u001b[1;32m    301\u001b[0m path \u001b[39m=\u001b[39m _parse_path(raw_dataset_path)\n\u001b[1;32m    303\u001b[0m \u001b[39mif\u001b[39;00m mode \u001b[39m==\u001b[39m \u001b[39m\"\u001b[39m\u001b[39mr\u001b[39m\u001b[39m\"\u001b[39m:\n\u001b[0;32m--> 304\u001b[0m     dataset \u001b[39m=\u001b[39m DatasetReader(path, driver\u001b[39m=\u001b[39mdriver, sharing\u001b[39m=\u001b[39msharing, \u001b[39m*\u001b[39m\u001b[39m*\u001b[39mkwargs)\n\u001b[1;32m    305\u001b[0m \u001b[39melif\u001b[39;00m mode \u001b[39m==\u001b[39m \u001b[39m\"\u001b[39m\u001b[39mr+\u001b[39m\u001b[39m\"\u001b[39m:\n\u001b[1;32m    306\u001b[0m     dataset \u001b[39m=\u001b[39m get_writer_for_path(path, driver\u001b[39m=\u001b[39mdriver)(\n\u001b[1;32m    307\u001b[0m         path, mode, driver\u001b[39m=\u001b[39mdriver, sharing\u001b[39m=\u001b[39msharing, \u001b[39m*\u001b[39m\u001b[39m*\u001b[39mkwargs\n\u001b[1;32m    308\u001b[0m     )\n",
      "File \u001b[0;32mrasterio/_base.pyx:312\u001b[0m, in \u001b[0;36mrasterio._base.DatasetBase.__init__\u001b[0;34m()\u001b[0m\n",
      "\u001b[0;31mRasterioIOError\u001b[0m: home/etboud/projects/Copernicus_DSM_10_N37_00_W120_00.tar: No such file or directory"
     ]
    }
   ],
   "source": [
    "# Instatiate a grid from a raster\n",
    "grid = Grid.from_raster(dem_fn, data_name='dem')"
   ]
  },
  {
   "cell_type": "code",
   "execution_count": null,
   "metadata": {},
   "outputs": [],
   "source": [
    "# Plot the raw DEM data\n",
    "fig, ax = plt.subplots(figsize=(8,6))\n",
    "plt.imshow(grid.dem, extent=grid.extent, cmap='cubehelix', zorder=1)\n",
    "plt.colorbar(label='Elevation (m)')\n",
    "plt.title('Digital elevation map')\n",
    "plt.xlabel('Longitude')\n",
    "plt.ylabel('Latitude')"
   ]
  },
  {
   "cell_type": "code",
   "execution_count": null,
   "metadata": {},
   "outputs": [],
   "source": [
    "# Read a raster into the current grid\n",
    "grid.read_raster('../data/n30w100_dir', data_name='dir')"
   ]
  },
  {
   "cell_type": "code",
   "execution_count": null,
   "metadata": {},
   "outputs": [],
   "source": [
    "# The flow direction raster is contained in a named attribute (in memory)\n",
    "grid.dir"
   ]
  },
  {
   "cell_type": "code",
   "execution_count": null,
   "metadata": {},
   "outputs": [],
   "source": [
    "# There are approximately 36 million grid cells\n",
    "grid.dir.size"
   ]
  },
  {
   "cell_type": "code",
   "execution_count": null,
   "metadata": {},
   "outputs": [],
   "source": [
    "#N    NE    E    SE    S    SW    W    NW\n",
    "dirmap = (64,  128,  1,   2,    4,   8,    16,  32)"
   ]
  },
  {
   "cell_type": "code",
   "execution_count": null,
   "metadata": {},
   "outputs": [],
   "source": [
    "# Access the flow direction grid\n",
    "fdir = grid.dir\n",
    "\n",
    "# Plot the flow direction grid\n",
    "fig = plt.figure(figsize=(8,6))\n",
    "plt.imshow(fdir, extent=grid.extent, cmap='viridis', zorder=1)\n",
    "boundaries = ([0] + sorted(list(dirmap)))\n",
    "plt.colorbar(boundaries= boundaries,\n",
    "             values=sorted(dirmap))\n",
    "plt.title('Flow direction grid')\n",
    "plt.xlabel('Longitude')\n",
    "plt.ylabel('Latitude')"
   ]
  },
  {
   "cell_type": "code",
   "execution_count": null,
   "metadata": {},
   "outputs": [],
   "source": [
    "# Specify pour point\n",
    "x, y = -97.294167, 32.73750\n",
    "\n",
    "# Delineate the catchment\n",
    "grid.catchment(data='dir', x=x, y=y, dirmap=dirmap, out_name='catch',\n",
    "               recursionlimit=15000, xytype='label', nodata_out=0)"
   ]
  },
  {
   "cell_type": "code",
   "execution_count": null,
   "metadata": {},
   "outputs": [],
   "source": [
    "# Clip the bounding box to the catchment\n",
    "grid.clip_to('catch')"
   ]
  },
  {
   "cell_type": "code",
   "execution_count": null,
   "metadata": {},
   "outputs": [],
   "source": [
    "# Get a view of the catchment corresponding to the current bounding box\n",
    "catch = grid.view('catch', nodata=np.nan)"
   ]
  },
  {
   "cell_type": "code",
   "execution_count": null,
   "metadata": {},
   "outputs": [],
   "source": [
    "# Plot the catchment\n",
    "fig, ax = plt.subplots(figsize=(8,6))\n",
    "im = ax.imshow(catch, extent=grid.extent, zorder=1, cmap='viridis')\n",
    "plt.colorbar(im, ax=ax, boundaries=boundaries, values=sorted(dirmap),\n",
    "             label='Flow Direction')\n",
    "plt.title('Delineated Catchment')\n",
    "plt.xlabel('Longitude')\n",
    "plt.ylabel('Latitude')"
   ]
  },
  {
   "cell_type": "code",
   "execution_count": null,
   "metadata": {},
   "outputs": [],
   "source": [
    "# Compute flow accumulation at each cell \n",
    "grid.accumulation(data='catch', dirmap=dirmap, out_name='acc')"
   ]
  },
  {
   "cell_type": "code",
   "execution_count": null,
   "metadata": {},
   "outputs": [],
   "source": [
    "# Get a view and add 1 (to help with log-scaled colors)\n",
    "acc = grid.view('acc', nodata=np.nan) + 1\n",
    "\n",
    "# Plot the result\n",
    "fig, ax = plt.subplots(figsize=(8,6))\n",
    "im = ax.imshow(acc, extent=grid.extent, zorder=1,\n",
    "               cmap='cubehelix',\n",
    "               norm=colors.LogNorm(1, grid.acc.max()))\n",
    "plt.colorbar(im, ax=ax, label='Upstream Cells')\n",
    "plt.title('Flow Accumulation')\n",
    "plt.xlabel('Longitude')\n",
    "plt.ylabel('Latitude')"
   ]
  },
  {
   "cell_type": "code",
   "execution_count": null,
   "metadata": {},
   "outputs": [],
   "source": [
    "# Extract branches for a given catchment\n",
    "branches = grid.extract_river_network(fdir='catch', acc='acc',\n",
    "                                      threshold=50, dirmap=dirmap)"
   ]
  },
  {
   "cell_type": "code",
   "execution_count": null,
   "metadata": {},
   "outputs": [],
   "source": [
    "# Plot the result\n",
    "fig, ax = plt.subplots(figsize=(6.5,6.5))\n",
    "plt.title('River network (>50 accumulation)')\n",
    "plt.xlabel('Longitude')\n",
    "plt.ylabel('Latitude')\n",
    "plt.xlim(grid.bbox[0], grid.bbox[2])\n",
    "plt.ylim(grid.bbox[1], grid.bbox[3])\n",
    "ax.set_aspect('equal')\n",
    "for branch in branches['features']:\n",
    "    line = np.asarray(branch['geometry']['coordinates'])\n",
    "    plt.plot(line[:, 0], line[:, 1])"
   ]
  },
  {
   "cell_type": "code",
   "execution_count": null,
   "metadata": {},
   "outputs": [],
   "source": [
    "# Compute flow distance using graph traversal\n",
    "grid.flow_distance(data='catch', x=x, y=y, dirmap=dirmap, out_name='dist',\n",
    "                   xytype='label', nodata_out=np.nan)"
   ]
  },
  {
   "cell_type": "code",
   "execution_count": null,
   "metadata": {},
   "outputs": [],
   "source": [
    "# Return a view of the flow distance grid\n",
    "dist = grid.view('dist', nodata=np.nan)\n",
    "\n",
    "# Plot the result\n",
    "fig, ax = plt.subplots(figsize=(8,6))\n",
    "im = ax.imshow(dist, extent=grid.extent, zorder=1,\n",
    "               cmap='cubehelix_r')\n",
    "plt.colorbar(im, ax=ax, label='Distance to outlet (cells)')\n",
    "plt.title('Flow Distance')\n",
    "plt.xlabel('Longitude')\n",
    "plt.ylabel('Latitude')"
   ]
  }
 ],
 "metadata": {
  "kernelspec": {
   "display_name": "planet_env",
   "language": "python",
   "name": "python3"
  },
  "language_info": {
   "codemirror_mode": {
    "name": "ipython",
    "version": 3
   },
   "file_extension": ".py",
   "mimetype": "text/x-python",
   "name": "python",
   "nbconvert_exporter": "python",
   "pygments_lexer": "ipython3",
   "version": "3.11.7"
  },
  "orig_nbformat": 4
 },
 "nbformat": 4,
 "nbformat_minor": 2
}

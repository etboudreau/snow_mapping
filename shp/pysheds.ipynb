{
 "cells": [
  {
   "cell_type": "code",
   "execution_count": 1,
   "metadata": {},
   "outputs": [
    {
     "name": "stdout",
     "output_type": "stream",
     "text": [
      "Collecting pysheds\n",
      "  Downloading pysheds-0.3.5-py3-none-any.whl.metadata (1.6 kB)\n",
      "Requirement already satisfied: affine in /home/etboud/mambaforge/envs/planet_env/lib/python3.11/site-packages (from pysheds) (2.4.0)\n",
      "Requirement already satisfied: geojson in /home/etboud/mambaforge/envs/planet_env/lib/python3.11/site-packages (from pysheds) (3.1.0)\n",
      "Collecting numba (from pysheds)\n",
      "  Downloading numba-0.59.0-cp311-cp311-manylinux2014_x86_64.manylinux_2_17_x86_64.whl.metadata (2.7 kB)\n",
      "Requirement already satisfied: numpy in /home/etboud/mambaforge/envs/planet_env/lib/python3.11/site-packages (from pysheds) (1.26.3)\n",
      "Requirement already satisfied: pandas in /home/etboud/mambaforge/envs/planet_env/lib/python3.11/site-packages (from pysheds) (2.1.4)\n",
      "Requirement already satisfied: pyproj in /home/etboud/mambaforge/envs/planet_env/lib/python3.11/site-packages (from pysheds) (3.6.1)\n",
      "Requirement already satisfied: rasterio>=1 in /home/etboud/mambaforge/envs/planet_env/lib/python3.11/site-packages (from pysheds) (1.3.9)\n",
      "Collecting scikit-image (from pysheds)\n",
      "  Downloading scikit_image-0.22.0-cp311-cp311-manylinux_2_17_x86_64.manylinux2014_x86_64.whl.metadata (13 kB)\n",
      "Requirement already satisfied: scipy in /home/etboud/mambaforge/envs/planet_env/lib/python3.11/site-packages (from pysheds) (1.12.0)\n",
      "Requirement already satisfied: attrs in /home/etboud/mambaforge/envs/planet_env/lib/python3.11/site-packages (from rasterio>=1->pysheds) (23.2.0)\n",
      "Requirement already satisfied: certifi in /home/etboud/mambaforge/envs/planet_env/lib/python3.11/site-packages (from rasterio>=1->pysheds) (2023.11.17)\n",
      "Requirement already satisfied: click>=4.0 in /home/etboud/mambaforge/envs/planet_env/lib/python3.11/site-packages (from rasterio>=1->pysheds) (8.1.7)\n",
      "Requirement already satisfied: cligj>=0.5 in /home/etboud/mambaforge/envs/planet_env/lib/python3.11/site-packages (from rasterio>=1->pysheds) (0.7.2)\n",
      "Requirement already satisfied: snuggs>=1.4.1 in /home/etboud/mambaforge/envs/planet_env/lib/python3.11/site-packages (from rasterio>=1->pysheds) (1.4.7)\n",
      "Requirement already satisfied: click-plugins in /home/etboud/mambaforge/envs/planet_env/lib/python3.11/site-packages (from rasterio>=1->pysheds) (1.1.1)\n",
      "Requirement already satisfied: setuptools in /home/etboud/mambaforge/envs/planet_env/lib/python3.11/site-packages (from rasterio>=1->pysheds) (68.0.0)\n",
      "Collecting llvmlite<0.43,>=0.42.0dev0 (from numba->pysheds)\n",
      "  Downloading llvmlite-0.42.0-cp311-cp311-manylinux_2_17_x86_64.manylinux2014_x86_64.whl.metadata (4.8 kB)\n",
      "Requirement already satisfied: python-dateutil>=2.8.2 in /home/etboud/mambaforge/envs/planet_env/lib/python3.11/site-packages (from pandas->pysheds) (2.8.2)\n",
      "Requirement already satisfied: pytz>=2020.1 in /home/etboud/mambaforge/envs/planet_env/lib/python3.11/site-packages (from pandas->pysheds) (2023.3.post1)\n",
      "Requirement already satisfied: tzdata>=2022.1 in /home/etboud/mambaforge/envs/planet_env/lib/python3.11/site-packages (from pandas->pysheds) (2023.4)\n",
      "Requirement already satisfied: networkx>=2.8 in /home/etboud/mambaforge/envs/planet_env/lib/python3.11/site-packages (from scikit-image->pysheds) (3.2.1)\n",
      "Requirement already satisfied: pillow>=9.0.1 in /home/etboud/mambaforge/envs/planet_env/lib/python3.11/site-packages (from scikit-image->pysheds) (10.2.0)\n",
      "Collecting imageio>=2.27 (from scikit-image->pysheds)\n",
      "  Downloading imageio-2.34.0-py3-none-any.whl.metadata (4.9 kB)\n",
      "Collecting tifffile>=2022.8.12 (from scikit-image->pysheds)\n",
      "  Downloading tifffile-2024.2.12-py3-none-any.whl.metadata (31 kB)\n",
      "Requirement already satisfied: packaging>=21 in /home/etboud/mambaforge/envs/planet_env/lib/python3.11/site-packages (from scikit-image->pysheds) (23.1)\n",
      "Collecting lazy_loader>=0.3 (from scikit-image->pysheds)\n",
      "  Downloading lazy_loader-0.3-py3-none-any.whl.metadata (4.3 kB)\n",
      "Requirement already satisfied: six>=1.5 in /home/etboud/mambaforge/envs/planet_env/lib/python3.11/site-packages (from python-dateutil>=2.8.2->pandas->pysheds) (1.16.0)\n",
      "Requirement already satisfied: pyparsing>=2.1.6 in /home/etboud/mambaforge/envs/planet_env/lib/python3.11/site-packages (from snuggs>=1.4.1->rasterio>=1->pysheds) (3.1.1)\n",
      "Downloading pysheds-0.3.5-py3-none-any.whl (89 kB)\n",
      "\u001b[2K   \u001b[90m━━━━━━━━━━━━━━━━━━━━━━━━━━━━━━━━━━━━━━━━\u001b[0m \u001b[32m89.6/89.6 kB\u001b[0m \u001b[31m2.4 MB/s\u001b[0m eta \u001b[36m0:00:00\u001b[0m\n",
      "\u001b[?25hDownloading numba-0.59.0-cp311-cp311-manylinux2014_x86_64.manylinux_2_17_x86_64.whl (3.7 MB)\n",
      "\u001b[2K   \u001b[90m━━━━━━━━━━━━━━━━━━━━━━━━━━━━━━━━━━━━━━━━\u001b[0m \u001b[32m3.7/3.7 MB\u001b[0m \u001b[31m24.9 MB/s\u001b[0m eta \u001b[36m0:00:00\u001b[0m00:01\u001b[0m00:01\u001b[0m\n",
      "\u001b[?25hDownloading scikit_image-0.22.0-cp311-cp311-manylinux_2_17_x86_64.manylinux2014_x86_64.whl (14.7 MB)\n",
      "\u001b[2K   \u001b[90m━━━━━━━━━━━━━━━━━━━━━━━━━━━━━━━━━━━━━━━━\u001b[0m \u001b[32m14.7/14.7 MB\u001b[0m \u001b[31m68.1 MB/s\u001b[0m eta \u001b[36m0:00:00\u001b[0m00:01\u001b[0m00:01\u001b[0m\n",
      "\u001b[?25hDownloading imageio-2.34.0-py3-none-any.whl (313 kB)\n",
      "\u001b[2K   \u001b[90m━━━━━━━━━━━━━━━━━━━━━━━━━━━━━━━━━━━━━━━━\u001b[0m \u001b[32m313.4/313.4 kB\u001b[0m \u001b[31m55.6 MB/s\u001b[0m eta \u001b[36m0:00:00\u001b[0m\n",
      "\u001b[?25hDownloading lazy_loader-0.3-py3-none-any.whl (9.1 kB)\n",
      "Downloading llvmlite-0.42.0-cp311-cp311-manylinux_2_17_x86_64.manylinux2014_x86_64.whl (43.8 MB)\n",
      "\u001b[2K   \u001b[90m━━━━━━━━━━━━━━━━━━━━━━━━━━━━━━━━━━━━━━━━\u001b[0m \u001b[32m43.8/43.8 MB\u001b[0m \u001b[31m44.0 MB/s\u001b[0m eta \u001b[36m0:00:00\u001b[0m00:01\u001b[0m00:01\u001b[0m\n",
      "\u001b[?25hDownloading tifffile-2024.2.12-py3-none-any.whl (224 kB)\n",
      "\u001b[2K   \u001b[90m━━━━━━━━━━━━━━━━━━━━━━━━━━━━━━━━━━━━━━━━\u001b[0m \u001b[32m224.5/224.5 kB\u001b[0m \u001b[31m47.5 MB/s\u001b[0m eta \u001b[36m0:00:00\u001b[0m\n",
      "\u001b[?25hInstalling collected packages: tifffile, llvmlite, lazy_loader, imageio, scikit-image, numba, pysheds\n",
      "Successfully installed imageio-2.34.0 lazy_loader-0.3 llvmlite-0.42.0 numba-0.59.0 pysheds-0.3.5 scikit-image-0.22.0 tifffile-2024.2.12\n"
     ]
    }
   ],
   "source": [
    "!pip install pysheds"
   ]
  },
  {
   "cell_type": "code",
   "execution_count": 2,
   "metadata": {},
   "outputs": [],
   "source": [
    "import pysheds"
   ]
  },
  {
   "cell_type": "code",
   "execution_count": null,
   "metadata": {},
   "outputs": [],
   "source": [
    "import numpy as np\n",
    "import pandas as pd\n",
    "from pysheds.grid import Grid\n",
    "import geopandas as gpd\n",
    "from shapely import geometry, ops\n",
    "import matplotlib.pyplot as plt\n",
    "import matplotlib.colors as colors\n",
    "import seaborn as sns\n",
    "\n",
    "import warnings\n",
    "warnings.filterwarnings('ignore')\n",
    "sns.set_palette('husl')\n",
    "\n",
    "%matplotlib inline"
   ]
  },
  {
   "cell_type": "code",
   "execution_count": null,
   "metadata": {},
   "outputs": [],
   "source": [
    "# Instatiate a grid from a raster\n",
    "grid = Grid.from_raster('../data/n30w100_con', data_name='dem')"
   ]
  },
  {
   "cell_type": "code",
   "execution_count": null,
   "metadata": {},
   "outputs": [],
   "source": [
    "# Plot the raw DEM data\n",
    "fig, ax = plt.subplots(figsize=(8,6))\n",
    "plt.imshow(grid.dem, extent=grid.extent, cmap='cubehelix', zorder=1)\n",
    "plt.colorbar(label='Elevation (m)')\n",
    "plt.title('Digital elevation map')\n",
    "plt.xlabel('Longitude')\n",
    "plt.ylabel('Latitude')"
   ]
  },
  {
   "cell_type": "code",
   "execution_count": null,
   "metadata": {},
   "outputs": [],
   "source": [
    "# Read a raster into the current grid\n",
    "grid.read_raster('../data/n30w100_dir', data_name='dir')"
   ]
  },
  {
   "cell_type": "code",
   "execution_count": null,
   "metadata": {},
   "outputs": [],
   "source": [
    "# The flow direction raster is contained in a named attribute (in memory)\n",
    "grid.dir"
   ]
  },
  {
   "cell_type": "code",
   "execution_count": null,
   "metadata": {},
   "outputs": [],
   "source": [
    "# There are approximately 36 million grid cells\n",
    "grid.dir.size"
   ]
  },
  {
   "cell_type": "code",
   "execution_count": null,
   "metadata": {},
   "outputs": [],
   "source": [
    "#N    NE    E    SE    S    SW    W    NW\n",
    "dirmap = (64,  128,  1,   2,    4,   8,    16,  32)"
   ]
  },
  {
   "cell_type": "code",
   "execution_count": null,
   "metadata": {},
   "outputs": [],
   "source": [
    "# Access the flow direction grid\n",
    "fdir = grid.dir\n",
    "\n",
    "# Plot the flow direction grid\n",
    "fig = plt.figure(figsize=(8,6))\n",
    "plt.imshow(fdir, extent=grid.extent, cmap='viridis', zorder=1)\n",
    "boundaries = ([0] + sorted(list(dirmap)))\n",
    "plt.colorbar(boundaries= boundaries,\n",
    "             values=sorted(dirmap))\n",
    "plt.title('Flow direction grid')\n",
    "plt.xlabel('Longitude')\n",
    "plt.ylabel('Latitude')"
   ]
  },
  {
   "cell_type": "code",
   "execution_count": null,
   "metadata": {},
   "outputs": [],
   "source": [
    "# Specify pour point\n",
    "x, y = -97.294167, 32.73750\n",
    "\n",
    "# Delineate the catchment\n",
    "grid.catchment(data='dir', x=x, y=y, dirmap=dirmap, out_name='catch',\n",
    "               recursionlimit=15000, xytype='label', nodata_out=0)"
   ]
  },
  {
   "cell_type": "code",
   "execution_count": null,
   "metadata": {},
   "outputs": [],
   "source": [
    "# Clip the bounding box to the catchment\n",
    "grid.clip_to('catch')"
   ]
  },
  {
   "cell_type": "code",
   "execution_count": null,
   "metadata": {},
   "outputs": [],
   "source": [
    "# Get a view of the catchment corresponding to the current bounding box\n",
    "catch = grid.view('catch', nodata=np.nan)"
   ]
  },
  {
   "cell_type": "code",
   "execution_count": null,
   "metadata": {},
   "outputs": [],
   "source": [
    "# Plot the catchment\n",
    "fig, ax = plt.subplots(figsize=(8,6))\n",
    "im = ax.imshow(catch, extent=grid.extent, zorder=1, cmap='viridis')\n",
    "plt.colorbar(im, ax=ax, boundaries=boundaries, values=sorted(dirmap),\n",
    "             label='Flow Direction')\n",
    "plt.title('Delineated Catchment')\n",
    "plt.xlabel('Longitude')\n",
    "plt.ylabel('Latitude')"
   ]
  },
  {
   "cell_type": "code",
   "execution_count": null,
   "metadata": {},
   "outputs": [],
   "source": [
    "# Compute flow accumulation at each cell \n",
    "grid.accumulation(data='catch', dirmap=dirmap, out_name='acc')"
   ]
  },
  {
   "cell_type": "code",
   "execution_count": null,
   "metadata": {},
   "outputs": [],
   "source": [
    "# Get a view and add 1 (to help with log-scaled colors)\n",
    "acc = grid.view('acc', nodata=np.nan) + 1\n",
    "\n",
    "# Plot the result\n",
    "fig, ax = plt.subplots(figsize=(8,6))\n",
    "im = ax.imshow(acc, extent=grid.extent, zorder=1,\n",
    "               cmap='cubehelix',\n",
    "               norm=colors.LogNorm(1, grid.acc.max()))\n",
    "plt.colorbar(im, ax=ax, label='Upstream Cells')\n",
    "plt.title('Flow Accumulation')\n",
    "plt.xlabel('Longitude')\n",
    "plt.ylabel('Latitude')"
   ]
  },
  {
   "cell_type": "code",
   "execution_count": null,
   "metadata": {},
   "outputs": [],
   "source": [
    "# Extract branches for a given catchment\n",
    "branches = grid.extract_river_network(fdir='catch', acc='acc',\n",
    "                                      threshold=50, dirmap=dirmap)"
   ]
  },
  {
   "cell_type": "code",
   "execution_count": null,
   "metadata": {},
   "outputs": [],
   "source": [
    "# Plot the result\n",
    "fig, ax = plt.subplots(figsize=(6.5,6.5))\n",
    "plt.title('River network (>50 accumulation)')\n",
    "plt.xlabel('Longitude')\n",
    "plt.ylabel('Latitude')\n",
    "plt.xlim(grid.bbox[0], grid.bbox[2])\n",
    "plt.ylim(grid.bbox[1], grid.bbox[3])\n",
    "ax.set_aspect('equal')\n",
    "for branch in branches['features']:\n",
    "    line = np.asarray(branch['geometry']['coordinates'])\n",
    "    plt.plot(line[:, 0], line[:, 1])"
   ]
  },
  {
   "cell_type": "code",
   "execution_count": null,
   "metadata": {},
   "outputs": [],
   "source": [
    "# Compute flow distance using graph traversal\n",
    "grid.flow_distance(data='catch', x=x, y=y, dirmap=dirmap, out_name='dist',\n",
    "                   xytype='label', nodata_out=np.nan)"
   ]
  },
  {
   "cell_type": "code",
   "execution_count": null,
   "metadata": {},
   "outputs": [],
   "source": [
    "# Return a view of the flow distance grid\n",
    "dist = grid.view('dist', nodata=np.nan)\n",
    "\n",
    "# Plot the result\n",
    "fig, ax = plt.subplots(figsize=(8,6))\n",
    "im = ax.imshow(dist, extent=grid.extent, zorder=1,\n",
    "               cmap='cubehelix_r')\n",
    "plt.colorbar(im, ax=ax, label='Distance to outlet (cells)')\n",
    "plt.title('Flow Distance')\n",
    "plt.xlabel('Longitude')\n",
    "plt.ylabel('Latitude')"
   ]
  }
 ],
 "metadata": {
  "kernelspec": {
   "display_name": "planet_env",
   "language": "python",
   "name": "python3"
  },
  "language_info": {
   "codemirror_mode": {
    "name": "ipython",
    "version": 3
   },
   "file_extension": ".py",
   "mimetype": "text/x-python",
   "name": "python",
   "nbconvert_exporter": "python",
   "pygments_lexer": "ipython3",
   "version": "3.11.7"
  },
  "orig_nbformat": 4
 },
 "nbformat": 4,
 "nbformat_minor": 2
}

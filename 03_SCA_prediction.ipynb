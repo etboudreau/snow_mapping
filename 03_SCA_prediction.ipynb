{
 "cells": [
  {
   "cell_type": "markdown",
   "id": "4e33b7f0-a715-4453-93dc-0b203fc18314",
   "metadata": {
    "tags": []
   },
   "source": [
    "### Step 0 load packages and functions"
   ]
  },
  {
   "cell_type": "code",
   "execution_count": 2,
   "id": "70d88daf-2ab9-475d-9d2d-df13f337c3cb",
   "metadata": {},
   "outputs": [
    {
     "name": "stderr",
     "output_type": "stream",
     "text": [
      "/Users/yangkehan/projects/personal/High_resolution_snow_cover_mapping/func_SCA_mapping.py:30: ClientV1DeprecationWarning: The planet.api module is deprecated and will be removed in version 2.0.0. For more details please see the discussion at https://github.com/planetlabs/planet-client-python/discussions.\n",
      "  from planet.api.auth import find_api_key\n"
     ]
    }
   ],
   "source": [
    "from func_SCA_mapping import *"
   ]
  },
  {
   "cell_type": "markdown",
   "id": "c1ed4812-7644-4ea6-ba32-dd094c685436",
   "metadata": {},
   "source": [
    "### Run prediction"
   ]
  },
  {
   "cell_type": "code",
   "execution_count": 26,
   "id": "5a76127a-7027-41c2-b5a7-bb835144b027",
   "metadata": {},
   "outputs": [
    {
     "name": "stdout",
     "output_type": "stream",
     "text": [
      "12\n",
      "./data/SCA/OBJID_5988_NUM_56_2022/20220118_174746_50_241b_3B_AnalyticMS_clip_NDVI.tif\n",
      "Start to predict: 20220118_174746_50_241b_3B_AnalyticMS_clip.tif\n",
      "Image dimension: (4, 712, 308)\n",
      "./data/SCA/OBJID_5988_NUM_56_2022/20220112_174849_76_2428_3B_AnalyticMS_clip_NDVI.tif\n",
      "Start to predict: 20220112_174849_76_2428_3B_AnalyticMS_clip.tif\n",
      "Image dimension: (4, 712, 308)\n",
      "./data/SCA/OBJID_5988_NUM_56_2022/20220114_175108_68_2212_3B_AnalyticMS_clip_NDVI.tif\n",
      "Start to predict: 20220114_175108_68_2212_3B_AnalyticMS_clip.tif\n",
      "Image dimension: (4, 712, 308)\n",
      "./data/SCA/OBJID_5988_NUM_56_2022/20220102_174816_39_241b_3B_AnalyticMS_clip_NDVI.tif\n",
      "Start to predict: 20220102_174816_39_241b_3B_AnalyticMS_clip.tif\n",
      "Image dimension: (4, 712, 308)\n",
      "./data/SCA/OBJID_5988_NUM_56_2022/20220117_174759_98_2451_3B_AnalyticMS_clip_NDVI.tif\n",
      "Start to predict: 20220117_174759_98_2451_3B_AnalyticMS_clip.tif\n",
      "Image dimension: (4, 712, 308)\n",
      "./data/SCA/OBJID_5988_NUM_56_2022/20220111_175557_69_106a_3B_AnalyticMS_clip_NDVI.tif\n",
      "Start to predict: 20220111_175557_69_106a_3B_AnalyticMS_clip.tif\n",
      "Image dimension: (4, 712, 308)\n",
      "./data/SCA/OBJID_5988_NUM_56_2022/20220112_181839_1003_3B_AnalyticMS_clip_NDVI.tif\n",
      "Start to predict: 20220112_181839_1003_3B_AnalyticMS_clip.tif\n",
      "Image dimension: (4, 712, 308)\n",
      "./data/SCA/OBJID_5988_NUM_56_2022/20220109_174846_42_2451_3B_AnalyticMS_clip_NDVI.tif\n",
      "Start to predict: 20220109_174846_42_2451_3B_AnalyticMS_clip.tif\n",
      "Image dimension: (4, 712, 308)\n",
      "./data/SCA/OBJID_5988_NUM_56_2022/20220113_175058_42_2421_3B_AnalyticMS_clip_NDVI.tif\n",
      "Start to predict: 20220113_175058_42_2421_3B_AnalyticMS_clip.tif\n",
      "Image dimension: (4, 712, 308)\n",
      "./data/SCA/OBJID_5988_NUM_56_2022/20220101_175330_74_106a_3B_AnalyticMS_clip_NDVI.tif\n",
      "Start to predict: 20220101_175330_74_106a_3B_AnalyticMS_clip.tif\n",
      "Image dimension: (4, 712, 308)\n",
      "./data/SCA/OBJID_5988_NUM_56_2022/20220119_181814_1003_3B_AnalyticMS_clip_NDVI.tif\n",
      "Start to predict: 20220119_181814_1003_3B_AnalyticMS_clip.tif\n",
      "Image dimension: (4, 712, 308)\n",
      "./data/SCA/OBJID_5988_NUM_56_2022/20220106_181837_100a_3B_AnalyticMS_clip_NDVI.tif\n",
      "Start to predict: 20220106_181837_100a_3B_AnalyticMS_clip.tif\n",
      "Image dimension: (4, 712, 308)\n",
      "13\n",
      "./data/SCA/OBJID_99917033_NUM_9_2022/20220118_174746_50_241b_3B_AnalyticMS_clip_NDVI.tif\n",
      "Start to predict: 20220118_174746_50_241b_3B_AnalyticMS_clip.tif\n",
      "Image dimension: (4, 1012, 1740)\n",
      "./data/SCA/OBJID_99917033_NUM_9_2022/20220112_174849_76_2428_3B_AnalyticMS_clip_NDVI.tif\n",
      "Start to predict: 20220112_174849_76_2428_3B_AnalyticMS_clip.tif\n",
      "Image dimension: (4, 1012, 1740)\n",
      "./data/SCA/OBJID_99917033_NUM_9_2022/20220109_174848_72_2451_3B_AnalyticMS_clip_NDVI.tif\n",
      "Start to predict: 20220109_174848_72_2451_3B_AnalyticMS_clip.tif\n",
      "Image dimension: (4, 1012, 1740)\n",
      "./data/SCA/OBJID_99917033_NUM_9_2022/20220102_174816_39_241b_3B_AnalyticMS_clip_NDVI.tif\n",
      "Start to predict: 20220102_174816_39_241b_3B_AnalyticMS_clip.tif\n",
      "Image dimension: (4, 1012, 1740)\n",
      "./data/SCA/OBJID_99917033_NUM_9_2022/20220117_174759_98_2451_3B_AnalyticMS_clip_NDVI.tif\n",
      "Start to predict: 20220117_174759_98_2451_3B_AnalyticMS_clip.tif\n",
      "Image dimension: (4, 1012, 1740)\n",
      "./data/SCA/OBJID_99917033_NUM_9_2022/20220105_184057_19_2405_3B_AnalyticMS_clip_NDVI.tif\n",
      "Start to predict: 20220105_184057_19_2405_3B_AnalyticMS_clip.tif\n",
      "Image dimension: (4, 1012, 1740)\n",
      "./data/SCA/OBJID_99917033_NUM_9_2022/20220111_175557_69_106a_3B_AnalyticMS_clip_NDVI.tif\n",
      "Start to predict: 20220111_175557_69_106a_3B_AnalyticMS_clip.tif\n",
      "Image dimension: (4, 1012, 1740)\n",
      "./data/SCA/OBJID_99917033_NUM_9_2022/20220109_174846_42_2451_3B_AnalyticMS_clip_NDVI.tif\n",
      "Start to predict: 20220109_174846_42_2451_3B_AnalyticMS_clip.tif\n",
      "Image dimension: (4, 1012, 1740)\n",
      "./data/SCA/OBJID_99917033_NUM_9_2022/20220113_175058_42_2421_3B_AnalyticMS_clip_NDVI.tif\n",
      "Start to predict: 20220113_175058_42_2421_3B_AnalyticMS_clip.tif\n",
      "Image dimension: (4, 1012, 1740)\n",
      "./data/SCA/OBJID_99917033_NUM_9_2022/20220101_175330_74_106a_3B_AnalyticMS_clip_NDVI.tif\n",
      "Start to predict: 20220101_175330_74_106a_3B_AnalyticMS_clip.tif\n",
      "Image dimension: (4, 1012, 1740)\n",
      "./data/SCA/OBJID_99917033_NUM_9_2022/20220111_174942_32_2448_3B_AnalyticMS_clip_NDVI.tif\n",
      "Start to predict: 20220111_174942_32_2448_3B_AnalyticMS_clip.tif\n",
      "Image dimension: (4, 1012, 1740)\n",
      "./data/SCA/OBJID_99917033_NUM_9_2022/20220114_182009_1013_3B_AnalyticMS_clip_NDVI.tif\n",
      "Start to predict: 20220114_182009_1013_3B_AnalyticMS_clip.tif\n",
      "Image dimension: (4, 1012, 1740)\n",
      "./data/SCA/OBJID_99917033_NUM_9_2022/20220112_181840_1003_3B_AnalyticMS_clip_NDVI.tif\n",
      "Start to predict: 20220112_181840_1003_3B_AnalyticMS_clip.tif\n",
      "Image dimension: (4, 1012, 1740)\n"
     ]
    }
   ],
   "source": [
    "# run prediction for all images in a folder\n",
    "\n",
    "dir_raster = './data/download/images/'\n",
    "run_id = ['OBJID_5988_NUM_56_2022','OBJID_99917033_NUM_9_2022']\n",
    "run_id = ['OBJID_5988_NUM_56_2021']\n",
    "dir_raster = [dir_raster + i + '/' for i in run_id]\n",
    "\n",
    "dir_model = \"./data/models/random_forest_20240116_binary_174K.joblib\"\n",
    "dir_out = './data/SCA/'\n",
    "if True:\n",
    "    model = joblib.load(dir_model)\n",
    "    nodata_flag = 9\n",
    "    for j in range(len(dir_raster)):\n",
    "        os.makedirs(dir_out + run_id[j], exist_ok = True)\n",
    "        fn = glob.glob(dir_raster[j] + '**/*SR*.tif', recursive=True)\n",
    "        print(len(fn))\n",
    "        for i in range(len(fn)):\n",
    "            f_out = dir_out + run_id[j] + '/' + os.path.basename(fn[i])[0:-4] + '_SCA.tif'\n",
    "            run_sca_prediction_band(fn[i], f_out, nodata_flag, model)\n",
    "\n"
   ]
  },
  {
   "cell_type": "code",
   "execution_count": 3,
   "id": "211307e1-fe36-4f63-a6f6-bc2eceff1f22",
   "metadata": {},
   "outputs": [
    {
     "name": "stdout",
     "output_type": "stream",
     "text": [
      "./data/SCA/FT_20220429/20220429_181641_80_222f_3B_AnalyticMS_SR_harmonized_clip_SCA.tif\n"
     ]
    },
    {
     "name": "stderr",
     "output_type": "stream",
     "text": [
      "Warning 1: +init=epsg:XXXX syntax is deprecated. It might return a CRS with a non-EPSG compliant axis order.\n"
     ]
    },
    {
     "name": "stdout",
     "output_type": "stream",
     "text": [
      "./data/SCA/FT_20220429/20220429_181650_65_222f_3B_AnalyticMS_SR_harmonized_clip_SCA.tif\n",
      "./data/SCA/FT_20220429/20220429_183043_75_249d_3B_AnalyticMS_SR_harmonized_clip_SCA.tif\n",
      "./data/SCA/FT_20220429/20220429_181023_33_2251_3B_AnalyticMS_SR_harmonized_clip_SCA.tif\n",
      "./data/SCA/FT_20220429/20220429_183048_34_249d_3B_AnalyticMS_SR_harmonized_clip_SCA.tif\n",
      "./data/SCA/FT_20220429/20220429_183046_04_249d_3B_AnalyticMS_SR_harmonized_clip_SCA.tif\n",
      "./data/SCA/FT_20220429/20220429_181018_76_2251_3B_AnalyticMS_SR_harmonized_clip_SCA.tif\n",
      "./data/SCA/FT_20220429/20220429_183050_63_249d_3B_AnalyticMS_SR_harmonized_clip_SCA.tif\n",
      "./data/SCA/FT_20220429/20220429_183052_93_249d_3B_AnalyticMS_SR_harmonized_clip_SCA.tif\n",
      "./data/SCA/FT_20220429/20220429_181644_01_222f_3B_AnalyticMS_SR_harmonized_clip_SCA.tif\n",
      "./data/SCA/FT_20220429/20220429_183055_23_249d_3B_AnalyticMS_SR_harmonized_clip_SCA.tif\n",
      "./data/SCA/FT_20220429/20220429_181021_04_2251_3B_AnalyticMS_SR_harmonized_clip_SCA.tif\n",
      "./data/SCA/FT_20220429/20220429_181646_23_222f_3B_AnalyticMS_SR_harmonized_clip_SCA.tif\n",
      "./data/SCA/FT_20220429/20220429_181025_61_2251_3B_AnalyticMS_SR_harmonized_clip_SCA.tif\n",
      "./data/SCA/FT_20220429/20220429_183057_52_249d_3B_AnalyticMS_SR_harmonized_clip_SCA.tif\n",
      "./data/SCA/FT_20220429/20220429_181027_89_2251_3B_AnalyticMS_SR_harmonized_clip_SCA.tif\n",
      "./data/SCA/FT_20220429/20220429_181648_44_222f_3B_AnalyticMS_SR_harmonized_clip_SCA.tif\n",
      "Save file to: ./data/results/FT_20220429_validation.csv\n"
     ]
    }
   ],
   "source": [
    "#validation using ASO data\n",
    "# this is not working as the ASO data are not loaded \n",
    "th = 0.1 # using 10 cm threshold\n",
    "dir_aso = ['/data0/kyang33/data/ASO/ori/feather/ASO_Feather_2022Feb17-19_AllData_and_Reports/ASO_Feather_Mosaic_2022Feb17-19_snowdepth_3m.tif',\n",
    "          '/data0/kyang33/data/ASO/ori/topredict20_21/ASO_3M_SD_USCASJ_20200608.tif'] \n",
    "dir_aso = ['/data0/kyang33/data/ASO/ori/feather/ASO_Feather_2022Mar10-12_AllData_and_Reports/ASO_3M_SD_USCOFE_20220310.tif']\n",
    "dir_aso = ['/data0/kyang33/data/ASO/ori/feather/ASO_Feather_2022Apr29-May1_AllData_and_Reports/ASO_Feather_Mosaic_2022Apr29-May1_snowdepth_3m.tif']\n",
    "for i in range(len(dir_aso)):\n",
    "    ds_aso = xr.open_rasterio(dir_aso[i])\n",
    "    fn_pred = glob.glob('./data/SCA/' + run_id[i] + '/*SCA.tif' )\n",
    "    dir_out = './data/results/'+run_id[i]+'_validation.csv'\n",
    "    validation_sca(ds_aso, fn_pred, dir_out, th, dir_aso[i])\n"
   ]
  }
 ],
 "metadata": {
  "kernelspec": {
   "display_name": "venv",
   "language": "python",
   "name": "python3"
  },
  "language_info": {
   "codemirror_mode": {
    "name": "ipython",
    "version": 3
   },
   "file_extension": ".py",
   "mimetype": "text/x-python",
   "name": "python",
   "nbconvert_exporter": "python",
   "pygments_lexer": "ipython3",
   "version": "3.11.5"
  }
 },
 "nbformat": 4,
 "nbformat_minor": 5
}

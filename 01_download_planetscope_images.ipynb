{
 "cells": [
  {
   "cell_type": "markdown",
   "id": "280a1092-23f1-41f8-b632-442c039d3c2a",
   "metadata": {},
   "source": [
    "### The notebook is used to download planetscope images with custom requiremnets (Kehan Yang, kyang33@uw.edu)"
   ]
  },
  {
   "cell_type": "markdown",
   "id": "cfc708a4-c6d0-4f3c-ab46-0a36ce671419",
   "metadata": {},
   "source": [
    "#### Load packages and set up directories\n",
    "Planet has updated its API in March 2023, so some of the functions may not be "
   ]
  },
  {
   "cell_type": "code",
   "execution_count": 1,
   "id": "b314445e-3631-4ae8-a117-c31c55fbf8d5",
   "metadata": {},
   "outputs": [
    {
     "name": "stderr",
     "output_type": "stream",
     "text": [
      "/Users/yangkehan/projects/personal/High_resolution_snow_cover_mapping/get_planet.py:18: ClientV1DeprecationWarning: The planet.api module is deprecated and will be removed in version 2.0.0. For more details please see the discussion at https://github.com/planetlabs/planet-client-python/discussions.\n",
      "  from planet.api.auth import find_api_key\n"
     ]
    },
    {
     "name": "stdout",
     "output_type": "stream",
     "text": [
      "Setup OK: API key valid\n"
     ]
    }
   ],
   "source": [
    "import os\n",
    "import glob\n",
    "from get_planet import *\n",
    "from os.path import exists"
   ]
  },
  {
   "cell_type": "markdown",
   "id": "27d65faa-e373-4da1-b221-541a4813102a",
   "metadata": {},
   "source": [
    "### Authorize Planet account.\n",
    "You can copy and paste your planet API from your Planet Account setting."
   ]
  },
  {
   "cell_type": "code",
   "execution_count": 2,
   "id": "27767b2c-5e26-49aa-bf17-f1756c65bc1c",
   "metadata": {},
   "outputs": [
    {
     "name": "stdout",
     "output_type": "stream",
     "text": [
      "Setup OK: API key valid\n"
     ]
    }
   ],
   "source": [
    "# If you're following along with this notebook, you can enter your API Key on the following line, and uncomment it:\n",
    "# os.environ['PLANET_API_KEY']='PLAKf9b6328484534380bcc8c6fa56cd27aa'\n",
    "# Setup the API Key from the `PL_API_KEY` environment variable\n",
    "PLANET_API_KEY = os.getenv('PLANET_API_KEY')\n",
    "\n",
    "#### Get your API Key and run validity check\n",
    "# This gets your API key and prompts you incase your API key is missing or if there are authentication issues\n",
    "\n",
    "## Get your API Key\n",
    "try:\n",
    "    PLANET_API_KEY = find_api_key() #remove find_api_key and place your api key like 'api-key'\n",
    "except Exception as e:\n",
    "    print(\"Failed to get Planet Key: Try planet init or install Planet Command line tool\")\n",
    "    sys.exit()\n",
    "\n",
    "# check if API key is valid \n",
    "response = requests.get('https://api.planet.com/compute/ops/orders/v2',auth=(PLANET_API_KEY, \"\"))\n",
    "if response.status_code==200:\n",
    "    print('Setup OK: API key valid')\n",
    "else:\n",
    "    print(f'Failed with response code {response.status_code}: reinitialize using planet init')\n",
    "\n",
    "\n",
    "# Run 'planet init' in terminal; Type in planet account (email address) and password and run this chuck again."
   ]
  },
  {
   "cell_type": "markdown",
   "id": "c4923eba-4b65-4793-928a-6345be739b11",
   "metadata": {},
   "source": [
    "### Set up directories"
   ]
  },
  {
   "cell_type": "code",
   "execution_count": 8,
   "id": "99647d48-8fa1-4435-b24e-a6d62b318c31",
   "metadata": {},
   "outputs": [],
   "source": [
    "# directory for the geomtry, the format has to be geojson\n",
    "dir_geom = './data/geom/'\n",
    "\n",
    "\n",
    "dir_root = './data/download/'\n",
    "\n",
    "# directory where the images will be downloaded. \n",
    "dir_download = dir_root + 'images/'\n",
    "os.makedirs(dir_download, exist_ok=True)\n",
    "\n",
    "# directory for the download links and image ids \n",
    "dir_order_url =  dir_root + 'links/'\n",
    "os.makedirs(dir_order_url, exist_ok=True)\n",
    "\n",
    "# change the flag if search and/or download data are required.\n",
    "flag_search = True\n",
    "flag_order = True # if this is set to True, the data will be ordered and count in your plan\n",
    "flag_download = True\n"
   ]
  },
  {
   "cell_type": "markdown",
   "id": "1cc75a64-c5f9-4781-a732-95ad53e2e46f",
   "metadata": {},
   "source": [
    "### Start to search and/or download data\n",
    "If flag_download is set to False, the order will not be placed, and your quote will not be consumed. The total areas will be saved in a CSV file, allowing you to estimate the total size of the areas"
   ]
  },
  {
   "cell_type": "code",
   "execution_count": 18,
   "id": "7e371d08-7778-41ec-8322-a458a942ab91",
   "metadata": {},
   "outputs": [
    {
     "name": "stdout",
     "output_type": "stream",
     "text": [
      "2021\n",
      "./data/download/links/2021_all_URLs.txt\n",
      "                                    file                      index  \\\n",
      "0  ./data/geom/OBJID_5988_NUM_56.geojson  OBJID_5988_NUM_56.geojson   \n",
      "\n",
      "                  ID  \n",
      "0  OBJID_5988_NUM_56  \n",
      "Pandas(Index=0, file='./data/geom/OBJID_5988_NUM_56.geojson', index='OBJID_5988_NUM_56.geojson', ID='OBJID_5988_NUM_56')\n",
      "OBJID_5988_NUM_56_2021\n",
      "Searching available images ------- \n",
      "Total estimated cost to quota: 5809.968 sqkm\n",
      "Total estimated cost to quota if clipped: 13.275 sqkm\n",
      "Total unique image IDs: 9\n",
      "Total used image IDs: ['20210107_184736_99_2413', '20210107_184701_80_2407', '20210104_184810_22_2254', '20210109_184610_32_240c', '20210105_180524_42_2276', '20210101_181443_55_106c', '20210101_190211_84_105e', '20210109_181714_92_1062', '20210109_184906_98_227c']\n",
      "(9, 5)\n",
      "Pay order: OBJID_5988_NUM_56_2021\n",
      "Submitted a total of 9 image ids: accepted a total of 9 ids\n",
      "Order URL: https://api.planet.com/compute/ops/orders/v2/a84916a4-99fc-497a-951f-397821c7e4e6\n",
      "https://api.planet.com/compute/ops/orders/v2/a84916a4-99fc-497a-951f-397821c7e4e6\n"
     ]
    }
   ],
   "source": [
    "# define the searching period; \n",
    "years = [2021]\n",
    "# start and end date of each year\n",
    "start_date = '-01-01T00:00:00'\n",
    "end_date = '-01-10T12:00:00'\n",
    "\n",
    "for yr in years:\n",
    "    yr = str(yr)\n",
    "    print(yr)\n",
    "  \n",
    "    if flag_search:\n",
    "        df_search = pd.DataFrame() # save all image ids\n",
    "        \n",
    "        #file to store url -- planet data download links\n",
    "        file_orders = dir_order_url + yr + '_all_URLs.txt'\n",
    "        start_time = yr + start_date\n",
    "        end_time = yr + end_date\n",
    "        print(file_orders)\n",
    "        \n",
    "        overlap = 99 # at least with 99% overlap \n",
    "        cloud_pct = 0.05 # no more than 5% cloud cover\n",
    "\n",
    "\n",
    "        #search for geojson file\n",
    "        fn = glob.glob(dir_geom + \"*geojson\")\n",
    "        ID_shp = [id.split(\"/\")[-1] for id in fn]\n",
    "        df = pd.DataFrame(data = {\n",
    "            \"file\": fn, \n",
    "            \"index\":  [i.split(\"/\")[-1] for i in fn],\n",
    "            \"ID\": [id.split(\"/\")[-1].split('.')[0] for id in fn]\n",
    "            })\n",
    "        df = df.sort_values(\"index\", ascending = True)\n",
    "\n",
    "        print(df.head())\n",
    "\n",
    "    # check whether the order url txt file is exist. if exist, read data; otherwise, creat file.\n",
    "        idx = 0 \n",
    "        if exists(file_orders):\n",
    "            order_urls = pd.read_csv(file_orders)\n",
    "        else:\n",
    "            order_urls = pd.DataFrame(columns = [\"index\",\"ID_geom\", \"order_url\"])\n",
    "            \n",
    "\n",
    "\n",
    "        for irow in df.itertuples():\n",
    "\n",
    "        # Search id \n",
    "            print(irow)\n",
    "            ID_geom = irow.ID.split(\".\")[0]+ '_' + yr\n",
    "            print(ID_geom)\n",
    "\n",
    "            if ID_geom not in order_urls.ID_geom.to_list():\n",
    "\n",
    "                print('Searching available images ------- ')\n",
    "                idlist = ft_iterate(item_type='PSScene', # planet has changed the product item type from 'PSScene4Band' with PSScene\n",
    "                        asset_type= 'ortho_analytic_4b_sr',\n",
    "                        geom = read_geom(irow.file),#\".json\"),\n",
    "                        start = start_time,\n",
    "                        end = end_time,\n",
    "                        cloud_cover = cloud_pct, #cloud cover range 0-1 represting 0-100% so 0.5 means max allowed 50% cloud cover\n",
    "                        ovp = overlap) #% minimum % overlap 0-100\n",
    "\n",
    "                idlist['ID_geom'] = ID_geom\n",
    "                print(idlist.shape)\n",
    "                idlist.sort_values(\"date\")\n",
    "                df_search = pd.concat([df_search, idlist])\n",
    "\n",
    "\n",
    "                # print(irow.file)\n",
    "                if(flag_order):\n",
    "                    payload_info = order_payload(Name_download = ID_geom, ID_imgs = idlist.id.values.tolist(), File_geom = irow.file)\n",
    "                    # print(payload_info)\n",
    "                    print(\"Pay order:\".format(),ID_geom)\n",
    "\n",
    "\n",
    "                    order_url = order_now(payload_info) # error response 400  \n",
    "\n",
    "                    order_urls.loc[idx, \"index\"] = idx        \n",
    "                    order_urls.loc[idx, \"ID_geom\"] = ID_geom\n",
    "                    order_urls.loc[idx, \"order_url\"] = order_url\n",
    "                    print(order_url)\n",
    "                    order_urls.loc[idx, \"NUM\"] = idlist.shape[0]  \n",
    "                    order_urls.loc[idx, \"Total area\"] = sum(idlist['estimated area'])  \n",
    "\n",
    "\n",
    "                    # order_urls.append(order_url)  # save all URLs\n",
    "                    order_urls.to_csv(file_orders, index = None)# save all URLs\n",
    "\n",
    "\n",
    "            idx = idx + 1\n",
    "        # save all satellite image id and geom info to one file\n",
    "        df_search.to_csv(dir_order_url+'all_image_info.csv') \n",
    "\n",
    "\n"
   ]
  },
  {
   "cell_type": "markdown",
   "id": "71852940-a8f6-4118-84c2-99b4b641c416",
   "metadata": {},
   "source": [
    "### Start to download data\n",
    "After receiving email notifications, you can use the following code to download the data."
   ]
  },
  {
   "cell_type": "code",
   "execution_count": 16,
   "id": "93321992-a966-40f2-9eb9-78de641d5bc6",
   "metadata": {},
   "outputs": [
    {
     "name": "stdout",
     "output_type": "stream",
     "text": [
      "https://api.planet.com/compute/ops/orders/v2/72b588f5-3881-4d4e-b985-428794586fc1\n",
      "start downloading data to ./data/download/images/OBJID_5988_NUM_56_2021\n",
      "37 items to download\n",
      "downloading 72b588f5-3881-4d4e-b985-428794586fc1/PSScene/20210109_184906_98_227c_3B_AnalyticMS_metadata_clip.xml to data/download/images/OBJID_5988_NUM_56_2021/72b588f5-3881-4d4e-b985-428794586fc1/PSScene/20210109_184906_98_227c_3B_AnalyticMS_metadata_clip.xml\n",
      "downloading 72b588f5-3881-4d4e-b985-428794586fc1/PSScene/20210109_184906_98_227c_metadata.json to data/download/images/OBJID_5988_NUM_56_2021/72b588f5-3881-4d4e-b985-428794586fc1/PSScene/20210109_184906_98_227c_metadata.json\n",
      "downloading 72b588f5-3881-4d4e-b985-428794586fc1/PSScene/20210109_184906_98_227c_3B_udm2_clip.tif to data/download/images/OBJID_5988_NUM_56_2021/72b588f5-3881-4d4e-b985-428794586fc1/PSScene/20210109_184906_98_227c_3B_udm2_clip.tif\n",
      "downloading 72b588f5-3881-4d4e-b985-428794586fc1/PSScene/20210109_184906_98_227c_3B_AnalyticMS_clip.tif to data/download/images/OBJID_5988_NUM_56_2021/72b588f5-3881-4d4e-b985-428794586fc1/PSScene/20210109_184906_98_227c_3B_AnalyticMS_clip.tif\n",
      "downloading 72b588f5-3881-4d4e-b985-428794586fc1/PSScene/20210107_184701_80_2407_3B_AnalyticMS_metadata_clip.xml to data/download/images/OBJID_5988_NUM_56_2021/72b588f5-3881-4d4e-b985-428794586fc1/PSScene/20210107_184701_80_2407_3B_AnalyticMS_metadata_clip.xml\n",
      "downloading 72b588f5-3881-4d4e-b985-428794586fc1/PSScene/20210107_184701_80_2407_metadata.json to data/download/images/OBJID_5988_NUM_56_2021/72b588f5-3881-4d4e-b985-428794586fc1/PSScene/20210107_184701_80_2407_metadata.json\n",
      "downloading 72b588f5-3881-4d4e-b985-428794586fc1/PSScene/20210107_184701_80_2407_3B_AnalyticMS_clip.tif to data/download/images/OBJID_5988_NUM_56_2021/72b588f5-3881-4d4e-b985-428794586fc1/PSScene/20210107_184701_80_2407_3B_AnalyticMS_clip.tif\n",
      "downloading 72b588f5-3881-4d4e-b985-428794586fc1/PSScene/20210107_184701_80_2407_3B_udm2_clip.tif to data/download/images/OBJID_5988_NUM_56_2021/72b588f5-3881-4d4e-b985-428794586fc1/PSScene/20210107_184701_80_2407_3B_udm2_clip.tif\n",
      "downloading 72b588f5-3881-4d4e-b985-428794586fc1/PSScene/20210107_184736_99_2413_metadata.json to data/download/images/OBJID_5988_NUM_56_2021/72b588f5-3881-4d4e-b985-428794586fc1/PSScene/20210107_184736_99_2413_metadata.json\n",
      "downloading 72b588f5-3881-4d4e-b985-428794586fc1/PSScene/20210107_184736_99_2413_3B_AnalyticMS_metadata_clip.xml to data/download/images/OBJID_5988_NUM_56_2021/72b588f5-3881-4d4e-b985-428794586fc1/PSScene/20210107_184736_99_2413_3B_AnalyticMS_metadata_clip.xml\n",
      "downloading 72b588f5-3881-4d4e-b985-428794586fc1/PSScene/20210107_184736_99_2413_3B_udm2_clip.tif to data/download/images/OBJID_5988_NUM_56_2021/72b588f5-3881-4d4e-b985-428794586fc1/PSScene/20210107_184736_99_2413_3B_udm2_clip.tif\n",
      "downloading 72b588f5-3881-4d4e-b985-428794586fc1/PSScene/20210107_184736_99_2413_3B_AnalyticMS_clip.tif to data/download/images/OBJID_5988_NUM_56_2021/72b588f5-3881-4d4e-b985-428794586fc1/PSScene/20210107_184736_99_2413_3B_AnalyticMS_clip.tif\n",
      "downloading 72b588f5-3881-4d4e-b985-428794586fc1/PSScene/20210105_180524_42_2276_3B_AnalyticMS_metadata_clip.xml to data/download/images/OBJID_5988_NUM_56_2021/72b588f5-3881-4d4e-b985-428794586fc1/PSScene/20210105_180524_42_2276_3B_AnalyticMS_metadata_clip.xml\n",
      "downloading 72b588f5-3881-4d4e-b985-428794586fc1/PSScene/20210105_180524_42_2276_3B_udm2_clip.tif to data/download/images/OBJID_5988_NUM_56_2021/72b588f5-3881-4d4e-b985-428794586fc1/PSScene/20210105_180524_42_2276_3B_udm2_clip.tif\n",
      "downloading 72b588f5-3881-4d4e-b985-428794586fc1/PSScene/20210105_180524_42_2276_3B_AnalyticMS_clip.tif to data/download/images/OBJID_5988_NUM_56_2021/72b588f5-3881-4d4e-b985-428794586fc1/PSScene/20210105_180524_42_2276_3B_AnalyticMS_clip.tif\n",
      "downloading 72b588f5-3881-4d4e-b985-428794586fc1/PSScene/20210105_180524_42_2276_metadata.json to data/download/images/OBJID_5988_NUM_56_2021/72b588f5-3881-4d4e-b985-428794586fc1/PSScene/20210105_180524_42_2276_metadata.json\n",
      "downloading 72b588f5-3881-4d4e-b985-428794586fc1/PSScene/20210101_190211_84_105e_3B_AnalyticMS_metadata_clip.xml to data/download/images/OBJID_5988_NUM_56_2021/72b588f5-3881-4d4e-b985-428794586fc1/PSScene/20210101_190211_84_105e_3B_AnalyticMS_metadata_clip.xml\n",
      "downloading 72b588f5-3881-4d4e-b985-428794586fc1/PSScene/20210101_190211_84_105e_metadata.json to data/download/images/OBJID_5988_NUM_56_2021/72b588f5-3881-4d4e-b985-428794586fc1/PSScene/20210101_190211_84_105e_metadata.json\n",
      "downloading 72b588f5-3881-4d4e-b985-428794586fc1/PSScene/20210101_190211_84_105e_3B_udm2_clip.tif to data/download/images/OBJID_5988_NUM_56_2021/72b588f5-3881-4d4e-b985-428794586fc1/PSScene/20210101_190211_84_105e_3B_udm2_clip.tif\n",
      "downloading 72b588f5-3881-4d4e-b985-428794586fc1/PSScene/20210101_190211_84_105e_3B_AnalyticMS_clip.tif to data/download/images/OBJID_5988_NUM_56_2021/72b588f5-3881-4d4e-b985-428794586fc1/PSScene/20210101_190211_84_105e_3B_AnalyticMS_clip.tif\n",
      "downloading 72b588f5-3881-4d4e-b985-428794586fc1/PSScene/20210109_181714_92_1062_3B_AnalyticMS_metadata_clip.xml to data/download/images/OBJID_5988_NUM_56_2021/72b588f5-3881-4d4e-b985-428794586fc1/PSScene/20210109_181714_92_1062_3B_AnalyticMS_metadata_clip.xml\n",
      "downloading 72b588f5-3881-4d4e-b985-428794586fc1/PSScene/20210109_181714_92_1062_metadata.json to data/download/images/OBJID_5988_NUM_56_2021/72b588f5-3881-4d4e-b985-428794586fc1/PSScene/20210109_181714_92_1062_metadata.json\n",
      "downloading 72b588f5-3881-4d4e-b985-428794586fc1/PSScene/20210109_181714_92_1062_3B_AnalyticMS_clip.tif to data/download/images/OBJID_5988_NUM_56_2021/72b588f5-3881-4d4e-b985-428794586fc1/PSScene/20210109_181714_92_1062_3B_AnalyticMS_clip.tif\n",
      "downloading 72b588f5-3881-4d4e-b985-428794586fc1/PSScene/20210109_181714_92_1062_3B_udm2_clip.tif to data/download/images/OBJID_5988_NUM_56_2021/72b588f5-3881-4d4e-b985-428794586fc1/PSScene/20210109_181714_92_1062_3B_udm2_clip.tif\n",
      "downloading 72b588f5-3881-4d4e-b985-428794586fc1/PSScene/20210104_184810_22_2254_3B_AnalyticMS_metadata_clip.xml to data/download/images/OBJID_5988_NUM_56_2021/72b588f5-3881-4d4e-b985-428794586fc1/PSScene/20210104_184810_22_2254_3B_AnalyticMS_metadata_clip.xml\n",
      "downloading 72b588f5-3881-4d4e-b985-428794586fc1/PSScene/20210104_184810_22_2254_metadata.json to data/download/images/OBJID_5988_NUM_56_2021/72b588f5-3881-4d4e-b985-428794586fc1/PSScene/20210104_184810_22_2254_metadata.json\n",
      "downloading 72b588f5-3881-4d4e-b985-428794586fc1/PSScene/20210104_184810_22_2254_3B_udm2_clip.tif to data/download/images/OBJID_5988_NUM_56_2021/72b588f5-3881-4d4e-b985-428794586fc1/PSScene/20210104_184810_22_2254_3B_udm2_clip.tif\n",
      "downloading 72b588f5-3881-4d4e-b985-428794586fc1/PSScene/20210104_184810_22_2254_3B_AnalyticMS_clip.tif to data/download/images/OBJID_5988_NUM_56_2021/72b588f5-3881-4d4e-b985-428794586fc1/PSScene/20210104_184810_22_2254_3B_AnalyticMS_clip.tif\n",
      "downloading 72b588f5-3881-4d4e-b985-428794586fc1/PSScene/20210101_181443_55_106c_3B_AnalyticMS_metadata_clip.xml to data/download/images/OBJID_5988_NUM_56_2021/72b588f5-3881-4d4e-b985-428794586fc1/PSScene/20210101_181443_55_106c_3B_AnalyticMS_metadata_clip.xml\n",
      "downloading 72b588f5-3881-4d4e-b985-428794586fc1/PSScene/20210101_181443_55_106c_metadata.json to data/download/images/OBJID_5988_NUM_56_2021/72b588f5-3881-4d4e-b985-428794586fc1/PSScene/20210101_181443_55_106c_metadata.json\n",
      "downloading 72b588f5-3881-4d4e-b985-428794586fc1/PSScene/20210101_181443_55_106c_3B_udm2_clip.tif to data/download/images/OBJID_5988_NUM_56_2021/72b588f5-3881-4d4e-b985-428794586fc1/PSScene/20210101_181443_55_106c_3B_udm2_clip.tif\n",
      "downloading 72b588f5-3881-4d4e-b985-428794586fc1/PSScene/20210101_181443_55_106c_3B_AnalyticMS_clip.tif to data/download/images/OBJID_5988_NUM_56_2021/72b588f5-3881-4d4e-b985-428794586fc1/PSScene/20210101_181443_55_106c_3B_AnalyticMS_clip.tif\n",
      "downloading 72b588f5-3881-4d4e-b985-428794586fc1/PSScene/20210109_184610_32_240c_metadata.json to data/download/images/OBJID_5988_NUM_56_2021/72b588f5-3881-4d4e-b985-428794586fc1/PSScene/20210109_184610_32_240c_metadata.json\n",
      "downloading 72b588f5-3881-4d4e-b985-428794586fc1/PSScene/20210109_184610_32_240c_3B_AnalyticMS_clip.tif to data/download/images/OBJID_5988_NUM_56_2021/72b588f5-3881-4d4e-b985-428794586fc1/PSScene/20210109_184610_32_240c_3B_AnalyticMS_clip.tif\n",
      "downloading 72b588f5-3881-4d4e-b985-428794586fc1/PSScene/20210109_184610_32_240c_3B_AnalyticMS_metadata_clip.xml to data/download/images/OBJID_5988_NUM_56_2021/72b588f5-3881-4d4e-b985-428794586fc1/PSScene/20210109_184610_32_240c_3B_AnalyticMS_metadata_clip.xml\n",
      "downloading 72b588f5-3881-4d4e-b985-428794586fc1/PSScene/20210109_184610_32_240c_3B_udm2_clip.tif to data/download/images/OBJID_5988_NUM_56_2021/72b588f5-3881-4d4e-b985-428794586fc1/PSScene/20210109_184610_32_240c_3B_udm2_clip.tif\n",
      "downloading 72b588f5-3881-4d4e-b985-428794586fc1/manifest.json to data/download/images/OBJID_5988_NUM_56_2021/72b588f5-3881-4d4e-b985-428794586fc1/manifest.json\n",
      "https://api.planet.com/compute/ops/orders/v2/1e9ec5b8-b8a3-44b9-bf5a-7de65e7c2b75\n",
      "Data have been downloaded ./data/download/images/OBJID_5988_NUM_56_2022\n",
      "https://api.planet.com/compute/ops/orders/v2/1278f714-e534-4240-a8d1-2f3a8f8e9ac4\n",
      "Data have been downloaded ./data/download/images/OBJID_99917033_NUM_9_2022\n"
     ]
    }
   ],
   "source": [
    "# read order URL from file_orders\n",
    "flag_download = True\n",
    "fn = glob.glob(dir_order_url + '/*_all_URLs.txt')\n",
    "\n",
    "if flag_download:\n",
    "    for file_orders in fn:\n",
    "        order_urls_read = pd.read_csv(file_orders)\n",
    "\n",
    "        for url in order_urls_read.itertuples():\n",
    "            print(url.order_url)\n",
    "            # if poll_for_success(url.order_url):\n",
    "            if os.path.exists(dir_download + url.ID_geom):\n",
    "                print(\"Data have been downloaded\".format(), dir_download + url.ID_geom)\n",
    "            else:\n",
    "                print(\"start downloading data to\".format(), dir_download + url.ID_geom)\n",
    "                download_results(url.order_url,folder = dir_download + url.ID_geom)\n",
    "\n",
    "\n",
    "\n"
   ]
  },
  {
   "cell_type": "markdown",
   "id": "b0b04de5-ccb4-4da3-997c-7b07874c2867",
   "metadata": {},
   "source": [
    "### Check downloaded data\n",
    "Check the data to determine if it has been downloaded completely. If not, download the missing data."
   ]
  },
  {
   "cell_type": "code",
   "execution_count": 69,
   "id": "8ba121ba-4533-4d7c-b98e-06217e152d39",
   "metadata": {},
   "outputs": [
    {
     "name": "stdout",
     "output_type": "stream",
     "text": [
      "0\n"
     ]
    },
    {
     "data": {
      "text/plain": [
       "[]"
      ]
     },
     "execution_count": 69,
     "metadata": {},
     "output_type": "execute_result"
    }
   ],
   "source": [
    "#check whether all data have been downloaded \n",
    "# read search csv \n",
    "dir_search = './data/download/links/'\n",
    "fn = glob.glob(dir_search + '*.csv')\n",
    "id_miss = []\n",
    "for i in range(0, len(fn)-1):\n",
    "    data = pd.read_csv(fn[i])\n",
    "    data['id_three'] = [(i.split(\"_\")[0] + '_' +  i.split(\"_\")[1] + '_' + i.split(\"_\")[2]) for i in data['id']]\n",
    "\n",
    "    dir_image = dir_download\n",
    "    # print(dir_image)\n",
    "    fn_img = glob.glob(dir_image + '/**/**/*.tif', recursive = True)\n",
    "    fn_img_names = [os.path.basename(f) for f in fn_img]\n",
    "    id_downloaded = [(i.split(\"_\")[0] + '_' +  i.split(\"_\")[1] + '_' + i.split(\"_\")[2]) for i in fn_img_names]\n",
    "\n",
    "    not_downloaded = data[~data['id_three'].isin(id_downloaded)]\n",
    "\n",
    "    if len(not_downloaded) > 0:\n",
    "        print(id)\n",
    "        print(not_downloaded)\n",
    "        id_miss.append(id)\n",
    "\n",
    "id_downloaded\n",
    "not_downloaded, id_downloaded\n",
    "print(len(id_miss))\n",
    "id_miss"
   ]
  },
  {
   "cell_type": "markdown",
   "metadata": {},
   "source": [
    "If the download is not completed and you find out the ids of images that are missing, you may need to find the URL for the missing images and download them again."
   ]
  },
  {
   "cell_type": "code",
   "execution_count": 72,
   "metadata": {},
   "outputs": [],
   "source": [
    "# read all urls \n",
    "ID_period_list = ['2022']\n",
    "order_url_geomid = pd.DataFrame()\n",
    "order_url = pd.DataFrame()\n",
    "for i in ID_period_list:\n",
    "\n",
    "    file_orders = dir_order_url + i + '_all_URLs.txt'\n",
    "    order_urls_read = pd.read_csv(file_orders)\n",
    "\n",
    "    order_url_geomid = pd.concat([order_url_geomid, order_urls_read['ID_geom']])\n",
    "    order_url = pd.concat([order_url, order_urls_read['order_url']])\n",
    "\n",
    "order_url_all = pd.DataFrame(data = {\"ID_geom\": order_url_geomid[0], \"order_url\": order_url[0]})"
   ]
  },
  {
   "cell_type": "markdown",
   "metadata": {},
   "source": [
    "Start to download missing data "
   ]
  },
  {
   "cell_type": "code",
   "execution_count": 74,
   "metadata": {},
   "outputs": [],
   "source": [
    "# select the URLs for the missing ID_geom\n",
    "miss_url = order_url_all[order_url_all['ID_geom'].isin(id_miss)]\n",
    "# download data to another folder \n",
    "# create folder \n",
    "dir_add = \"./data/download/images\"\n",
    "for url in miss_url.itertuples():\n",
    "    print(url.order_url)\n",
    "    # if poll_for_success(url.order_url):\n",
    "    if os.path.exists(dir_add + url.ID_geom):\n",
    "        print(\"Data have been downloaded\".format(), dir_add + url.ID_geom)\n",
    "    else:\n",
    "        print(\"start downloading data to\".format(), dir_add + url.ID_geom)\n",
    "        download_results(url.order_url,folder = dir_add + url.ID_geom)"
   ]
  }
 ],
 "metadata": {
  "kernelspec": {
   "display_name": "planet_env",
   "language": "python",
   "name": "python3"
  },
  "language_info": {
   "codemirror_mode": {
    "name": "ipython",
    "version": 3
   },
   "file_extension": ".py",
   "mimetype": "text/x-python",
   "name": "python",
   "nbconvert_exporter": "python",
   "pygments_lexer": "ipython3",
   "version": "3.11.5"
  },
  "vscode": {
   "interpreter": {
    "hash": "a2ccaa9afe82fb0315920b23fce073a4f263a5ce544fa175decef6ecd1397bf8"
   }
  }
 },
 "nbformat": 4,
 "nbformat_minor": 5
}

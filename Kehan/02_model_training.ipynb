{
 "cells": [
  {
   "cell_type": "code",
   "execution_count": 2,
   "id": "f987170c-2f3e-4611-8c15-30bc6a995052",
   "metadata": {},
   "outputs": [
    {
     "name": "stderr",
     "output_type": "stream",
     "text": [
      "/Users/yangkehan/projects/personal/High_resolution_snow_cover_mapping/func_SCA_mapping.py:30: ClientV1DeprecationWarning: The planet.api module is deprecated and will be removed in version 2.0.0. For more details please see the discussion at https://github.com/planetlabs/planet-client-python/discussions.\n",
      "  from planet.api.auth import find_api_key\n"
     ]
    }
   ],
   "source": [
    "from func_SCA_mapping import *"
   ]
  },
  {
   "cell_type": "code",
   "execution_count": 5,
   "id": "94fcd806-c74e-4652-8820-5fffe21f83bc",
   "metadata": {},
   "outputs": [],
   "source": [
    "flag_rasterize = False\n",
    "\n",
    "dir_ROI = \"./data/ROI/20180528_181110_add_UTM11.shp\"\n",
    "dir_raster = \"./data/planet/train/20180528_181110_1025_3B_AnalyticMS_SR_clip.tif\"\n",
    "dir_ROIraster = './data/ROI/ROI_20180528_181110_add.tif'\n",
    "dir_samples_root = './data/samples/sample_'\n",
    "dir_samples = './data/samples/sample_174k.csv'\n",
    "\n",
    "if flag_rasterize:\n",
    "    flag_output = True\n",
    "    # rasterize ROI\n",
    "    ROI = vector_rasterize(dir_vector=dir_ROI, dir_raster=dir_raster, dir_out=dir_ROIraster, flag_output = flag_output)\n",
    "    \n",
    "    # save surface reflectance and lable to csv file\n",
    "    N_scale = 10000.0\n",
    "    img = rasterio.open(dir_raster)\n",
    "    ROI = rasterio.open(dir_ROIraster)\n",
    "    img_read = img.read()/N_scale\n",
    "    df_img = pd.DataFrame(img_read.reshape([4,-1]).T)\n",
    "    df_label = pd.DataFrame(ROI.read().reshape([1,-1]).T)\n",
    "\n",
    "    df_train = pd.concat([df_img, df_label], axis = 1)\n",
    "    df_train.columns = ['blue','green','red','nir','label']\n",
    "    df_train['ndvi'] = (df_train['nir']-df_train['red'])/(df_train['nir']+df_train['red'])\n",
    "    df_train = df_train[df_train.label !=9]\n",
    "    df_train.label = np.where(df_train.label > 0, 1, 0)\n",
    "    dir_samples = dir_samples_root + str(int(len(df_train.index)/1000)) + 'k.csv'\n",
    "    df_train.to_csv(dir_samples, index = False)\n",
    "else:\n",
    "    df_train = pd.read_csv(dir_samples)"
   ]
  },
  {
   "cell_type": "code",
   "execution_count": 7,
   "id": "2a02184e-029e-477b-8ef5-fb384bc19361",
   "metadata": {},
   "outputs": [
    {
     "name": "stdout",
     "output_type": "stream",
     "text": [
      "Repeat times: 10000\n",
      "F1-score: 0.99902 (0.00025)\n",
      "Balanced Accuracy: 0.99908 (0.00024)\n",
      "Accuracy: 0.99915 (0.00021)\n",
      "Total time used: 158.4\n"
     ]
    },
    {
     "data": {
      "image/png": "[encoded data removed]",
      "text/plain": [
       "<Figure size 640x480 with 1 Axes>"
      ]
     },
     "metadata": {},
     "output_type": "display_data"
    }
   ],
   "source": [
    "flag_train = False\n",
    "\n",
    "# get data \n",
    "dir_model = \"./data/models/random_forest_20240116_binary_174K.joblib\"\n",
    "dir_score = './data/models/random_forest_20240116_binary_174K_scores.csv'\n",
    "starttime = time.process_time()\n",
    "if True:\n",
    "    X = df_train[['blue', 'green','red','nir']]\n",
    "    y = df_train['label']\n",
    "    \n",
    "    # pre-process ndvi value to -1.0 to 1.0; fill nan to finite value \n",
    "    # X[X['ndvi']< -1.0]['ndvi'] = -1.0\n",
    "    # X[X['ndvi']> 1.0]['ndvi'] = 1.0\n",
    "    # X[np.isfinite(X['ndvi']) == False]['ndvi'] = np.nan\n",
    "\n",
    "    # define the model\n",
    "    model = RandomForestClassifier(n_estimators=10, max_depth=10, max_features=4, random_state=1)#\n",
    "    # evaluate the model\n",
    "    cv = RepeatedStratifiedKFold(n_splits=10, n_repeats=1000, random_state=1)\n",
    "    n_accuracy = cross_val_score(model, X, y, scoring='accuracy', cv=cv, n_jobs=-1, error_score='raise')\n",
    "    n_f1 = cross_val_score(model, X, y, scoring='f1', cv=cv, n_jobs=-1, error_score='raise')\n",
    "    n_balanced_accuracy = cross_val_score(model, X, y, scoring='balanced_accuracy', cv=cv, n_jobs=-1, error_score='raise')\n",
    "    \n",
    "    # report performance\n",
    "    plt.hist(n_f1)\n",
    "    print('Repeat times:'.format(), len(n_f1))\n",
    "    print('F1-score: %.5f (%.5f)' % (n_f1.mean(), n_f1.std()))\n",
    "    print('Balanced Accuracy: %.5f (%.5f)' % (n_balanced_accuracy.mean(), n_balanced_accuracy.std()))\n",
    "    print('Accuracy: %.5f (%.5f)' % (n_accuracy.mean(), n_accuracy.std()))\n",
    "\n",
    "    # fit model with all observations\n",
    "    model.fit(X,y)\n",
    "    # save model \n",
    "    joblib.dump(model, dir_model)\n",
    "    # save accuracy \n",
    "    scores = pd.DataFrame()\n",
    "    scores[\"accuracy\"] = n_accuracy\n",
    "    scores['f1'] = n_f1\n",
    "    scores['balanced_accuracy'] = n_balanced_accuracy\n",
    "    scores.to_csv(dir_score, index = False)\n",
    "\n",
    "    print('Total time used:'.format(), round(time.process_time() - starttime, 1))"
   ]
  }
 ],
 "metadata": {
  "kernelspec": {
   "display_name": "venv",
   "language": "python",
   "name": "python3"
  },
  "language_info": {
   "codemirror_mode": {
    "name": "ipython",
    "version": 3
   },
   "file_extension": ".py",
   "mimetype": "text/x-python",
   "name": "python",
   "nbconvert_exporter": "python",
   "pygments_lexer": "ipython3",
   "version": "3.11.5"
  }
 },
 "nbformat": 4,
 "nbformat_minor": 5
}
